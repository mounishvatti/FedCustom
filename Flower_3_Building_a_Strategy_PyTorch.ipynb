{
  "cells": [
    {
      "cell_type": "markdown",
      "metadata": {
        "id": "view-in-github",
        "colab_type": "text"
      },
      "source": [
        "<a href=\"https://colab.research.google.com/github/mounishvatti/federated-learning/blob/main/Flower_3_Building_a_Strategy_PyTorch.ipynb\" target=\"_parent\"><img src=\"https://colab.research.google.com/assets/colab-badge.svg\" alt=\"Open In Colab\"/></a>"
      ]
    },
    {
      "cell_type": "markdown",
      "metadata": {
        "id": "S8uNPOR_bML1"
      },
      "source": [
        "# Build a strategy from scratch\n",
        "\n",
        "In this notebook, we'll continue to customize the federated learning system we built previously by creating a custom version of FedAvg (again, using [Flower](https://flower.ai/) and [PyTorch](https://pytorch.org/)).\n",
        "\n",
        "\n",
        "Let's build a new `Strategy` from scratch!"
      ]
    },
    {
      "cell_type": "markdown",
      "metadata": {
        "id": "Jkp85VqqbML4"
      },
      "source": [
        "## Preparation\n",
        "\n",
        "Before we begin with the actual code, let's make sure that we have everything we need."
      ]
    },
    {
      "cell_type": "markdown",
      "metadata": {
        "id": "98bBJeqAbML4"
      },
      "source": [
        "### Installing dependencies\n",
        "\n",
        "First, we install the necessary packages:"
      ]
    },
    {
      "cell_type": "code",
      "execution_count": null,
      "metadata": {
        "colab": {
          "base_uri": "https://localhost:8080/"
        },
        "id": "mm33Cs30bML4",
        "outputId": "5a27a732-8666-4b0c-f6bb-6a0ef5012237"
      },
      "outputs": [
        {
          "output_type": "stream",
          "name": "stdout",
          "text": [
            "\u001b[2K     \u001b[90m━━━━━━━━━━━━━━━━━━━━━━━━━━━━━━━━━━━━━━━━\u001b[0m \u001b[32m330.1/330.1 kB\u001b[0m \u001b[31m3.3 MB/s\u001b[0m eta \u001b[36m0:00:00\u001b[0m\n",
            "\u001b[2K     \u001b[90m━━━━━━━━━━━━━━━━━━━━━━━━━━━━━━━━━━━━━━━━\u001b[0m \u001b[32m294.6/294.6 kB\u001b[0m \u001b[31m9.9 MB/s\u001b[0m eta \u001b[36m0:00:00\u001b[0m\n",
            "\u001b[2K     \u001b[90m━━━━━━━━━━━━━━━━━━━━━━━━━━━━━━━━━━━━━━━━\u001b[0m \u001b[32m2.1/2.1 MB\u001b[0m \u001b[31m17.5 MB/s\u001b[0m eta \u001b[36m0:00:00\u001b[0m\n",
            "\u001b[2K     \u001b[90m━━━━━━━━━━━━━━━━━━━━━━━━━━━━━━━━━━━━━━━━\u001b[0m \u001b[32m3.1/3.1 MB\u001b[0m \u001b[31m29.5 MB/s\u001b[0m eta \u001b[36m0:00:00\u001b[0m\n",
            "\u001b[2K     \u001b[90m━━━━━━━━━━━━━━━━━━━━━━━━━━━━━━━━━━━━━━━━\u001b[0m \u001b[32m56.9/56.9 MB\u001b[0m \u001b[31m12.6 MB/s\u001b[0m eta \u001b[36m0:00:00\u001b[0m\n",
            "\u001b[?25h\u001b[31mERROR: pip's dependency resolver does not currently take into account all the packages that are installed. This behaviour is the source of the following dependency conflicts.\n",
            "tensorflow-metadata 1.14.0 requires protobuf<4.21,>=3.20.3, but you have protobuf 4.25.3 which is incompatible.\u001b[0m\u001b[31m\n",
            "\u001b[0m"
          ]
        }
      ],
      "source": [
        "!pip install -q flwr[simulation] torch torchvision"
      ]
    },
    {
      "cell_type": "markdown",
      "metadata": {
        "id": "UTmdE3zKbML5"
      },
      "source": [
        "Now that we have all dependencies installed, we can import everything we need for this tutorial:"
      ]
    },
    {
      "cell_type": "code",
      "execution_count": null,
      "metadata": {
        "colab": {
          "base_uri": "https://localhost:8080/"
        },
        "id": "Q4E8VrmpbML6",
        "outputId": "471dac7d-bdcd-48ce-d8bb-3f62affc69ee"
      },
      "outputs": [
        {
          "output_type": "stream",
          "name": "stdout",
          "text": [
            "Training on cpu using PyTorch 2.2.1+cu121 and Flower 1.8.0\n"
          ]
        }
      ],
      "source": [
        "from collections import OrderedDict\n",
        "from typing import Dict, List, Optional, Tuple\n",
        "\n",
        "import numpy as np\n",
        "import torch\n",
        "import torch.nn as nn\n",
        "import torch.nn.functional as F\n",
        "import torchvision.transforms as transforms\n",
        "from torch.utils.data import DataLoader, random_split\n",
        "from torchvision.datasets import CIFAR10\n",
        "\n",
        "import flwr as fl\n",
        "\n",
        "DEVICE = torch.device(\"cpu\")  # Try \"cuda\" to train on GPU\n",
        "print(\n",
        "    f\"Training on {DEVICE} using PyTorch {torch.__version__} and Flower {fl.__version__}\"\n",
        ")"
      ]
    },
    {
      "cell_type": "markdown",
      "metadata": {
        "id": "C0qdOCQrbML6"
      },
      "source": [
        "It is possible to switch to a runtime that has GPU acceleration enabled (on Google Colab: `Runtime > Change runtime type > Hardware acclerator: GPU > Save`). Note, however, that Google Colab is not always able to offer GPU acceleration. If you see an error related to GPU availability in one of the following sections, consider switching back to CPU-based execution by setting `DEVICE = torch.device(\"cpu\")`. If the runtime has GPU acceleration enabled, you should see the output `Training on cuda`, otherwise it'll say `Training on cpu`."
      ]
    },
    {
      "cell_type": "markdown",
      "metadata": {
        "id": "Bpp0RUnwbML6"
      },
      "source": [
        "### Data loading\n",
        "\n",
        "Let's now load the CIFAR-10 training and test set, partition them into ten smaller datasets (each split into training and validation set), and wrap everything in their own `DataLoader`. We introduce a new parameter `num_clients` which allows us to call `load_datasets` with different numbers of clients."
      ]
    },
    {
      "cell_type": "code",
      "execution_count": null,
      "metadata": {
        "colab": {
          "base_uri": "https://localhost:8080/"
        },
        "id": "xI-jEpyZbML6",
        "outputId": "28887702-a7a6-4d35-8dce-75586fae5261"
      },
      "outputs": [
        {
          "output_type": "stream",
          "name": "stderr",
          "text": [
            "/usr/local/lib/python3.10/dist-packages/ipykernel/ipkernel.py:283: DeprecationWarning: `should_run_async` will not call `transform_cell` automatically in the future. Please pass the result to `transformed_cell` argument and any exception that happen during thetransform in `preprocessing_exc_tuple` in IPython 7.17 and above.\n",
            "  and should_run_async(code)\n"
          ]
        },
        {
          "output_type": "stream",
          "name": "stdout",
          "text": [
            "Downloading https://www.cs.toronto.edu/~kriz/cifar-10-python.tar.gz to ./dataset/cifar-10-python.tar.gz\n"
          ]
        },
        {
          "output_type": "stream",
          "name": "stderr",
          "text": [
            "100%|██████████| 170498071/170498071 [00:03<00:00, 48998092.49it/s]\n"
          ]
        },
        {
          "output_type": "stream",
          "name": "stdout",
          "text": [
            "Extracting ./dataset/cifar-10-python.tar.gz to ./dataset\n",
            "Files already downloaded and verified\n"
          ]
        }
      ],
      "source": [
        "NUM_CLIENTS = 10\n",
        "\n",
        "\n",
        "def load_datasets(num_clients: int):\n",
        "    # Download and transform CIFAR-10 (train and test)\n",
        "    transform = transforms.Compose(\n",
        "        [transforms.ToTensor(), transforms.Normalize((0.5, 0.5, 0.5), (0.5, 0.5, 0.5))]\n",
        "    )\n",
        "    trainset = CIFAR10(\"./dataset\", train=True, download=True, transform=transform)\n",
        "    testset = CIFAR10(\"./dataset\", train=False, download=True, transform=transform)\n",
        "\n",
        "    # Split training set into `num_clients` partitions to simulate different local datasets\n",
        "    partition_size = len(trainset) // num_clients\n",
        "    lengths = [partition_size] * num_clients\n",
        "    datasets = random_split(trainset, lengths, torch.Generator().manual_seed(42))\n",
        "\n",
        "    # Split each partition into train/val and create DataLoader\n",
        "    trainloaders = []\n",
        "    valloaders = []\n",
        "    for ds in datasets:\n",
        "        len_val = len(ds) // 10  # 10 % validation set\n",
        "        len_train = len(ds) - len_val\n",
        "        lengths = [len_train, len_val]\n",
        "        ds_train, ds_val = random_split(ds, lengths, torch.Generator().manual_seed(42))\n",
        "        trainloaders.append(DataLoader(ds_train, batch_size=32, shuffle=True))\n",
        "        valloaders.append(DataLoader(ds_val, batch_size=32))\n",
        "    testloader = DataLoader(testset, batch_size=32)\n",
        "    return trainloaders, valloaders, testloader\n",
        "\n",
        "\n",
        "trainloaders, valloaders, testloader = load_datasets(NUM_CLIENTS)"
      ]
    },
    {
      "cell_type": "markdown",
      "metadata": {
        "id": "5bPotxBwbML7"
      },
      "source": [
        "### Model training/evaluation\n",
        "\n",
        "Let's continue with the usual model definition (including `set_parameters` and `get_parameters`), training and test functions:"
      ]
    },
    {
      "cell_type": "code",
      "execution_count": null,
      "metadata": {
        "id": "VzKfA98hbML7"
      },
      "outputs": [],
      "source": [
        "class Net(nn.Module):\n",
        "    def __init__(self) -> None:\n",
        "        super(Net, self).__init__()\n",
        "        self.conv1 = nn.Conv2d(3, 6, 5)\n",
        "        self.pool = nn.MaxPool2d(2, 2)\n",
        "        self.conv2 = nn.Conv2d(6, 16, 5)\n",
        "        self.fc1 = nn.Linear(16 * 5 * 5, 120)\n",
        "        self.fc2 = nn.Linear(120, 84)\n",
        "        self.fc3 = nn.Linear(84, 10)\n",
        "\n",
        "    def forward(self, x: torch.Tensor) -> torch.Tensor:\n",
        "        x = self.pool(F.relu(self.conv1(x)))\n",
        "        x = self.pool(F.relu(self.conv2(x)))\n",
        "        x = x.view(-1, 16 * 5 * 5)\n",
        "        x = F.relu(self.fc1(x))\n",
        "        x = F.relu(self.fc2(x))\n",
        "        x = self.fc3(x)\n",
        "        return x\n",
        "\n",
        "\n",
        "def get_parameters(net) -> List[np.ndarray]:\n",
        "    return [val.cpu().numpy() for _, val in net.state_dict().items()]\n",
        "\n",
        "\n",
        "def set_parameters(net, parameters: List[np.ndarray]):\n",
        "    params_dict = zip(net.state_dict().keys(), parameters)\n",
        "    state_dict = OrderedDict({k: torch.Tensor(v) for k, v in params_dict})\n",
        "    net.load_state_dict(state_dict, strict=True)\n",
        "\n",
        "\n",
        "def train(net, trainloader, epochs: int):\n",
        "    \"\"\"Train the network on the training set.\"\"\"\n",
        "    criterion = torch.nn.CrossEntropyLoss()\n",
        "    optimizer = torch.optim.Adam(net.parameters())\n",
        "    net.train()\n",
        "    for epoch in range(epochs):\n",
        "        correct, total, epoch_loss = 0, 0, 0.0\n",
        "        for images, labels in trainloader:\n",
        "            images, labels = images.to(DEVICE), labels.to(DEVICE)\n",
        "            optimizer.zero_grad()\n",
        "            outputs = net(images)\n",
        "            loss = criterion(net(images), labels)\n",
        "            loss.backward()\n",
        "            optimizer.step()\n",
        "            # Metrics\n",
        "            epoch_loss += loss\n",
        "            total += labels.size(0)\n",
        "            correct += (torch.max(outputs.data, 1)[1] == labels).sum().item()\n",
        "        epoch_loss /= len(trainloader.dataset)\n",
        "        epoch_acc = correct / total\n",
        "        print(f\"Epoch {epoch+1}: train loss {epoch_loss}, accuracy {epoch_acc}\")\n",
        "\n",
        "\n",
        "def test(net, testloader):\n",
        "    \"\"\"Evaluate the network on the entire test set.\"\"\"\n",
        "    criterion = torch.nn.CrossEntropyLoss()\n",
        "    correct, total, loss = 0, 0, 0.0\n",
        "    net.eval()\n",
        "    with torch.no_grad():\n",
        "        for images, labels in testloader:\n",
        "            images, labels = images.to(DEVICE), labels.to(DEVICE)\n",
        "            outputs = net(images)\n",
        "            loss += criterion(outputs, labels).item()\n",
        "            _, predicted = torch.max(outputs.data, 1)\n",
        "            total += labels.size(0)\n",
        "            correct += (predicted == labels).sum().item()\n",
        "    loss /= len(testloader.dataset)\n",
        "    accuracy = correct / total\n",
        "    return loss, accuracy"
      ]
    },
    {
      "cell_type": "markdown",
      "metadata": {
        "id": "8zB-jwrtbML7"
      },
      "source": [
        "### Flower client\n",
        "\n",
        "To implement the Flower client, we (again) create a subclass of `flwr.client.NumPyClient` and implement the three methods `get_parameters`, `fit`, and `evaluate`. Here, we also pass the `cid` to the client and use it log additional details:"
      ]
    },
    {
      "cell_type": "code",
      "execution_count": null,
      "metadata": {
        "id": "-WK_SGqkbML7"
      },
      "outputs": [],
      "source": [
        "class FlowerClient(fl.client.NumPyClient):\n",
        "    def __init__(self, cid, net, trainloader, valloader):\n",
        "        self.cid = cid\n",
        "        self.net = net\n",
        "        self.trainloader = trainloader\n",
        "        self.valloader = valloader\n",
        "\n",
        "    def get_parameters(self, config):\n",
        "        print(f\"[Client {self.cid}] get_parameters\")\n",
        "        return get_parameters(self.net)\n",
        "\n",
        "    def fit(self, parameters, config):\n",
        "        print(f\"[Client {self.cid}] fit, config: {config}\")\n",
        "        set_parameters(self.net, parameters)\n",
        "        train(self.net, self.trainloader, epochs=1)\n",
        "        return get_parameters(self.net), len(self.trainloader), {}\n",
        "\n",
        "    def evaluate(self, parameters, config):\n",
        "        print(f\"[Client {self.cid}] evaluate, config: {config}\")\n",
        "        set_parameters(self.net, parameters)\n",
        "        loss, accuracy = test(self.net, self.valloader)\n",
        "        return float(loss), len(self.valloader), {\"accuracy\": float(accuracy)}\n",
        "\n",
        "\n",
        "def client_fn(cid) -> FlowerClient:\n",
        "    net = Net().to(DEVICE)\n",
        "    trainloader = trainloaders[int(cid)]\n",
        "    valloader = valloaders[int(cid)]\n",
        "    return FlowerClient(cid, net, trainloader, valloader)"
      ]
    },
    {
      "cell_type": "markdown",
      "metadata": {
        "id": "thjscpqabML8"
      },
      "source": [
        "Let's test what we have so far before we continue:"
      ]
    },
    {
      "cell_type": "code",
      "execution_count": null,
      "metadata": {
        "colab": {
          "base_uri": "https://localhost:8080/"
        },
        "id": "__qdNQtcbML8",
        "outputId": "4a676849-47e4-49f1-c404-f199f72016ea"
      },
      "outputs": [
        {
          "output_type": "stream",
          "name": "stderr",
          "text": [
            "\u001b[92mINFO \u001b[0m:      Starting Flower simulation, config: num_rounds=3, no round_timeout\n",
            "INFO:flwr:Starting Flower simulation, config: num_rounds=3, no round_timeout\n",
            "/usr/lib/python3.10/subprocess.py:1796: RuntimeWarning: os.fork() was called. os.fork() is incompatible with multithreaded code, and JAX is multithreaded, so this will likely lead to a deadlock.\n",
            "  self.pid = _posixsubprocess.fork_exec(\n",
            "2024-04-24 04:48:31,858\tINFO worker.py:1621 -- Started a local Ray instance.\n",
            "\u001b[92mINFO \u001b[0m:      Flower VCE: Ray initialized with resources: {'CPU': 2.0, 'object_store_memory': 3959307878.0, 'node:__internal_head__': 1.0, 'node:172.28.0.12': 1.0, 'GPU': 1.0, 'memory': 7918615758.0}\n",
            "INFO:flwr:Flower VCE: Ray initialized with resources: {'CPU': 2.0, 'object_store_memory': 3959307878.0, 'node:__internal_head__': 1.0, 'node:172.28.0.12': 1.0, 'GPU': 1.0, 'memory': 7918615758.0}\n",
            "\u001b[92mINFO \u001b[0m:      Optimize your simulation with Flower VCE: https://flower.ai/docs/framework/how-to-run-simulations.html\n",
            "INFO:flwr:Optimize your simulation with Flower VCE: https://flower.ai/docs/framework/how-to-run-simulations.html\n",
            "\u001b[92mINFO \u001b[0m:      No `client_resources` specified. Using minimal resources for clients.\n",
            "INFO:flwr:No `client_resources` specified. Using minimal resources for clients.\n",
            "\u001b[92mINFO \u001b[0m:      Flower VCE: Resources for each Virtual Client: {'num_cpus': 1, 'num_gpus': 0.0}\n",
            "INFO:flwr:Flower VCE: Resources for each Virtual Client: {'num_cpus': 1, 'num_gpus': 0.0}\n",
            "\u001b[92mINFO \u001b[0m:      Flower VCE: Creating VirtualClientEngineActorPool with 2 actors\n",
            "INFO:flwr:Flower VCE: Creating VirtualClientEngineActorPool with 2 actors\n",
            "\u001b[92mINFO \u001b[0m:      [INIT]\n",
            "INFO:flwr:[INIT]\n",
            "\u001b[92mINFO \u001b[0m:      Requesting initial parameters from one random client\n",
            "INFO:flwr:Requesting initial parameters from one random client\n",
            "\u001b[2m\u001b[36m(pid=1799)\u001b[0m 2024-04-24 04:48:36.925361: E external/local_xla/xla/stream_executor/cuda/cuda_dnn.cc:9261] Unable to register cuDNN factory: Attempting to register factory for plugin cuDNN when one has already been registered\n",
            "\u001b[2m\u001b[36m(pid=1799)\u001b[0m 2024-04-24 04:48:36.925424: E external/local_xla/xla/stream_executor/cuda/cuda_fft.cc:607] Unable to register cuFFT factory: Attempting to register factory for plugin cuFFT when one has already been registered\n",
            "\u001b[2m\u001b[36m(pid=1799)\u001b[0m 2024-04-24 04:48:36.927156: E external/local_xla/xla/stream_executor/cuda/cuda_blas.cc:1515] Unable to register cuBLAS factory: Attempting to register factory for plugin cuBLAS when one has already been registered\n",
            "\u001b[2m\u001b[36m(pid=1799)\u001b[0m 2024-04-24 04:48:38.671216: W tensorflow/compiler/tf2tensorrt/utils/py_utils.cc:38] TF-TRT Warning: Could not find TensorRT\n",
            "\u001b[92mINFO \u001b[0m:      Received initial parameters from one random client\n",
            "INFO:flwr:Received initial parameters from one random client\n",
            "\u001b[92mINFO \u001b[0m:      Evaluating initial global parameters\n",
            "INFO:flwr:Evaluating initial global parameters\n",
            "\u001b[92mINFO \u001b[0m:      \n",
            "INFO:flwr:\n",
            "\u001b[92mINFO \u001b[0m:      [ROUND 1]\n",
            "INFO:flwr:[ROUND 1]\n",
            "\u001b[92mINFO \u001b[0m:      configure_fit: strategy sampled 2 clients (out of 2)\n",
            "INFO:flwr:configure_fit: strategy sampled 2 clients (out of 2)\n",
            "\u001b[2m\u001b[36m(ClientAppActor pid=1799)\u001b[0m \u001b[93mWARNING \u001b[0m:   Deprecation Warning: The `client_fn` function must return an instance of `Client`, but an instance of `NumpyClient` was returned. Please use `NumPyClient.to_client()` method to convert it to `Client`.\n",
            "\u001b[2m\u001b[36m(pid=1797)\u001b[0m 2024-04-24 04:48:36.954124: E external/local_xla/xla/stream_executor/cuda/cuda_dnn.cc:9261] Unable to register cuDNN factory: Attempting to register factory for plugin cuDNN when one has already been registered\n",
            "\u001b[2m\u001b[36m(pid=1797)\u001b[0m 2024-04-24 04:48:36.954173: E external/local_xla/xla/stream_executor/cuda/cuda_fft.cc:607] Unable to register cuFFT factory: Attempting to register factory for plugin cuFFT when one has already been registered\n",
            "\u001b[2m\u001b[36m(pid=1797)\u001b[0m 2024-04-24 04:48:36.955665: E external/local_xla/xla/stream_executor/cuda/cuda_blas.cc:1515] Unable to register cuBLAS factory: Attempting to register factory for plugin cuBLAS when one has already been registered\n",
            "\u001b[2m\u001b[36m(pid=1797)\u001b[0m 2024-04-24 04:48:38.709271: W tensorflow/compiler/tf2tensorrt/utils/py_utils.cc:38] TF-TRT Warning: Could not find TensorRT\n"
          ]
        },
        {
          "output_type": "stream",
          "name": "stdout",
          "text": [
            "\u001b[2m\u001b[36m(ClientAppActor pid=1799)\u001b[0m [Client 1] get_parameters\n"
          ]
        },
        {
          "output_type": "stream",
          "name": "stderr",
          "text": [
            "\u001b[2m\u001b[36m(ClientAppActor pid=1799)\u001b[0m \u001b[93mWARNING \u001b[0m:   Deprecation Warning: The `client_fn` function must return an instance of `Client`, but an instance of `NumpyClient` was returned. Please use `NumPyClient.to_client()` method to convert it to `Client`.\n"
          ]
        },
        {
          "output_type": "stream",
          "name": "stdout",
          "text": [
            "\u001b[2m\u001b[36m(ClientAppActor pid=1799)\u001b[0m [Client 1] fit, config: {}\n",
            "\u001b[2m\u001b[36m(ClientAppActor pid=1799)\u001b[0m Epoch 1: train loss 0.06355062872171402, accuracy 0.242\n"
          ]
        },
        {
          "output_type": "stream",
          "name": "stderr",
          "text": [
            "\u001b[2m\u001b[36m(ClientAppActor pid=1797)\u001b[0m \u001b[93mWARNING \u001b[0m:   Deprecation Warning: The `client_fn` function must return an instance of `Client`, but an instance of `NumpyClient` was returned. Please use `NumPyClient.to_client()` method to convert it to `Client`.\n",
            "\u001b[92mINFO \u001b[0m:      aggregate_fit: received 2 results and 0 failures\n",
            "INFO:flwr:aggregate_fit: received 2 results and 0 failures\n",
            "\u001b[93mWARNING \u001b[0m:   No fit_metrics_aggregation_fn provided\n",
            "WARNING:flwr:No fit_metrics_aggregation_fn provided\n",
            "\u001b[92mINFO \u001b[0m:      configure_evaluate: strategy sampled 2 clients (out of 2)\n",
            "INFO:flwr:configure_evaluate: strategy sampled 2 clients (out of 2)\n"
          ]
        },
        {
          "output_type": "stream",
          "name": "stdout",
          "text": [
            "\u001b[2m\u001b[36m(ClientAppActor pid=1797)\u001b[0m [Client 0] fit, config: {}\n",
            "\u001b[2m\u001b[36m(ClientAppActor pid=1797)\u001b[0m [Client 1] evaluate, config: {}\n",
            "\u001b[2m\u001b[36m(ClientAppActor pid=1797)\u001b[0m Epoch 1: train loss 0.06404758244752884, accuracy 0.23955555555555555\n"
          ]
        },
        {
          "output_type": "stream",
          "name": "stderr",
          "text": [
            "\u001b[2m\u001b[36m(ClientAppActor pid=1797)\u001b[0m \u001b[93mWARNING \u001b[0m:   Deprecation Warning: The `client_fn` function must return an instance of `Client`, but an instance of `NumpyClient` was returned. Please use `NumPyClient.to_client()` method to convert it to `Client`.\n",
            "\u001b[92mINFO \u001b[0m:      aggregate_evaluate: received 2 results and 0 failures\n",
            "INFO:flwr:aggregate_evaluate: received 2 results and 0 failures\n",
            "\u001b[93mWARNING \u001b[0m:   No evaluate_metrics_aggregation_fn provided\n",
            "WARNING:flwr:No evaluate_metrics_aggregation_fn provided\n",
            "\u001b[92mINFO \u001b[0m:      \n",
            "INFO:flwr:\n",
            "\u001b[92mINFO \u001b[0m:      [ROUND 2]\n",
            "INFO:flwr:[ROUND 2]\n",
            "\u001b[92mINFO \u001b[0m:      configure_fit: strategy sampled 2 clients (out of 2)\n",
            "INFO:flwr:configure_fit: strategy sampled 2 clients (out of 2)\n"
          ]
        },
        {
          "output_type": "stream",
          "name": "stdout",
          "text": [
            "\u001b[2m\u001b[36m(ClientAppActor pid=1799)\u001b[0m [Client 0] fit, config: {}\n",
            "\u001b[2m\u001b[36m(ClientAppActor pid=1799)\u001b[0m Epoch 1: train loss 0.05617309734225273, accuracy 0.3357777777777778\n",
            "\u001b[2m\u001b[36m(ClientAppActor pid=1799)\u001b[0m [Client 0] evaluate, config: {}\n"
          ]
        },
        {
          "output_type": "stream",
          "name": "stderr",
          "text": [
            "\u001b[92mINFO \u001b[0m:      aggregate_fit: received 2 results and 0 failures\n",
            "INFO:flwr:aggregate_fit: received 2 results and 0 failures\n",
            "\u001b[92mINFO \u001b[0m:      configure_evaluate: strategy sampled 2 clients (out of 2)\n",
            "INFO:flwr:configure_evaluate: strategy sampled 2 clients (out of 2)\n"
          ]
        },
        {
          "output_type": "stream",
          "name": "stdout",
          "text": [
            "\u001b[2m\u001b[36m(ClientAppActor pid=1797)\u001b[0m [Client 1] evaluate, config: {}\n",
            "\u001b[2m\u001b[36m(ClientAppActor pid=1797)\u001b[0m [Client 1] fit, config: {}\n"
          ]
        },
        {
          "output_type": "stream",
          "name": "stderr",
          "text": [
            "\u001b[2m\u001b[36m(ClientAppActor pid=1797)\u001b[0m \u001b[93mWARNING \u001b[0m:   Deprecation Warning: The `client_fn` function must return an instance of `Client`, but an instance of `NumpyClient` was returned. Please use `NumPyClient.to_client()` method to convert it to `Client`.\u001b[32m [repeated 4x across cluster] (Ray deduplicates logs by default. Set RAY_DEDUP_LOGS=0 to disable log deduplication, or see https://docs.ray.io/en/master/ray-observability/ray-logging.html#log-deduplication for more options.)\u001b[0m\n",
            "\u001b[92mINFO \u001b[0m:      aggregate_evaluate: received 2 results and 0 failures\n",
            "INFO:flwr:aggregate_evaluate: received 2 results and 0 failures\n",
            "\u001b[92mINFO \u001b[0m:      \n",
            "INFO:flwr:\n",
            "\u001b[92mINFO \u001b[0m:      [ROUND 3]\n",
            "INFO:flwr:[ROUND 3]\n",
            "\u001b[92mINFO \u001b[0m:      configure_fit: strategy sampled 2 clients (out of 2)\n",
            "INFO:flwr:configure_fit: strategy sampled 2 clients (out of 2)\n"
          ]
        },
        {
          "output_type": "stream",
          "name": "stdout",
          "text": [
            "\u001b[2m\u001b[36m(ClientAppActor pid=1799)\u001b[0m [Client 1] fit, config: {}\n",
            "\u001b[2m\u001b[36m(ClientAppActor pid=1797)\u001b[0m Epoch 1: train loss 0.05530991032719612, accuracy 0.3446666666666667\n",
            "\u001b[2m\u001b[36m(ClientAppActor pid=1799)\u001b[0m Epoch 1: train loss 0.05171889066696167, accuracy 0.38911111111111113\n",
            "\u001b[2m\u001b[36m(ClientAppActor pid=1799)\u001b[0m [Client 0] evaluate, config: {}\n"
          ]
        },
        {
          "output_type": "stream",
          "name": "stderr",
          "text": [
            "\u001b[92mINFO \u001b[0m:      aggregate_fit: received 2 results and 0 failures\n",
            "INFO:flwr:aggregate_fit: received 2 results and 0 failures\n",
            "\u001b[92mINFO \u001b[0m:      configure_evaluate: strategy sampled 2 clients (out of 2)\n",
            "INFO:flwr:configure_evaluate: strategy sampled 2 clients (out of 2)\n"
          ]
        },
        {
          "output_type": "stream",
          "name": "stdout",
          "text": [
            "\u001b[2m\u001b[36m(ClientAppActor pid=1797)\u001b[0m [Client 0] fit, config: {}\n",
            "\u001b[2m\u001b[36m(ClientAppActor pid=1797)\u001b[0m [Client 0] evaluate, config: {}\n"
          ]
        },
        {
          "output_type": "stream",
          "name": "stderr",
          "text": [
            "\u001b[2m\u001b[36m(ClientAppActor pid=1797)\u001b[0m \u001b[93mWARNING \u001b[0m:   Deprecation Warning: The `client_fn` function must return an instance of `Client`, but an instance of `NumpyClient` was returned. Please use `NumPyClient.to_client()` method to convert it to `Client`.\u001b[32m [repeated 4x across cluster]\u001b[0m\n",
            "\u001b[92mINFO \u001b[0m:      aggregate_evaluate: received 2 results and 0 failures\n",
            "INFO:flwr:aggregate_evaluate: received 2 results and 0 failures\n",
            "\u001b[92mINFO \u001b[0m:      \n",
            "INFO:flwr:\n",
            "\u001b[92mINFO \u001b[0m:      [SUMMARY]\n",
            "INFO:flwr:[SUMMARY]\n",
            "\u001b[92mINFO \u001b[0m:      Run finished 3 rounds in 35.56s\n",
            "INFO:flwr:Run finished 3 rounds in 35.56s\n",
            "\u001b[92mINFO \u001b[0m:      History (loss, distributed):\n",
            "INFO:flwr:History (loss, distributed):\n",
            "\u001b[92mINFO \u001b[0m:      \t('\\tround 1: 0.06018132436275482\\n'\n",
            "INFO:flwr:\t('\\tround 1: 0.06018132436275482\\n'\n",
            "\u001b[92mINFO \u001b[0m:      \t '\\tround 2: 0.0557074465751648\\n'\n",
            "INFO:flwr:\t '\\tround 2: 0.0557074465751648\\n'\n",
            "\u001b[92mINFO \u001b[0m:      \t '\\tround 3: 0.05314010512828827\\n')\n",
            "INFO:flwr:\t '\\tround 3: 0.05314010512828827\\n')\n",
            "\u001b[92mINFO \u001b[0m:      \n",
            "INFO:flwr:\n"
          ]
        },
        {
          "output_type": "execute_result",
          "data": {
            "text/plain": [
              "History (loss, distributed):\n",
              "('\\tround 1: 0.06018132436275482\\n'\n",
              " '\\tround 2: 0.0557074465751648\\n'\n",
              " '\\tround 3: 0.05314010512828827\\n')"
            ]
          },
          "metadata": {},
          "execution_count": 6
        }
      ],
      "source": [
        "# Specify client resources if you need GPU (defaults to 1 CPU and 0 GPU)\n",
        "client_resources = None\n",
        "if DEVICE.type == \"cuda\":\n",
        "    client_resources = {\"num_gpus\": 1}\n",
        "\n",
        "fl.simulation.start_simulation(\n",
        "    client_fn=client_fn,\n",
        "    num_clients=2,\n",
        "    config=fl.server.ServerConfig(num_rounds=3),\n",
        "    client_resources=client_resources,\n",
        ")"
      ]
    },
    {
      "cell_type": "markdown",
      "metadata": {
        "id": "xnGlAfJFbML8"
      },
      "source": [
        "## Build a Strategy from scratch\n",
        "\n",
        "Let’s overwrite the `configure_fit` method such that it passes a higher learning rate (potentially also other hyperparameters) to the optimizer of a fraction of the clients. We will keep the sampling of the clients as it is in `FedAvg` and then change the configuration dictionary (one of the `FitIns` attributes)."
      ]
    },
    {
      "cell_type": "code",
      "execution_count": null,
      "metadata": {
        "colab": {
          "base_uri": "https://localhost:8080/"
        },
        "id": "IRV3FIkRbML8",
        "outputId": "e2ff3c6f-ee7b-4ea0-ba81-63ab4cbcf6d3"
      },
      "outputs": [
        {
          "output_type": "stream",
          "name": "stderr",
          "text": [
            "/usr/local/lib/python3.10/dist-packages/ipykernel/ipkernel.py:283: DeprecationWarning: `should_run_async` will not call `transform_cell` automatically in the future. Please pass the result to `transformed_cell` argument and any exception that happen during thetransform in `preprocessing_exc_tuple` in IPython 7.17 and above.\n",
            "  and should_run_async(code)\n"
          ]
        }
      ],
      "source": [
        "from typing import Callable, Union\n",
        "\n",
        "from flwr.common import (\n",
        "    EvaluateIns,\n",
        "    EvaluateRes,\n",
        "    FitIns,\n",
        "    FitRes,\n",
        "    MetricsAggregationFn,\n",
        "    NDArrays,\n",
        "    Parameters,\n",
        "    Scalar,\n",
        "    ndarrays_to_parameters,\n",
        "    parameters_to_ndarrays,\n",
        ")\n",
        "from flwr.server.client_manager import ClientManager\n",
        "from flwr.server.client_proxy import ClientProxy\n",
        "from flwr.server.strategy.aggregate import aggregate, weighted_loss_avg\n",
        "\n",
        "\n",
        "class FedCustom(fl.server.strategy.Strategy):\n",
        "    def __init__(\n",
        "        self,\n",
        "        fraction_fit: float = 1.0,\n",
        "        fraction_evaluate: float = 1.0,\n",
        "        min_fit_clients: int = 2,\n",
        "        min_evaluate_clients: int = 2,\n",
        "        min_available_clients: int = 2,\n",
        "    ) -> None:\n",
        "        super().__init__()\n",
        "        self.fraction_fit = fraction_fit\n",
        "        self.fraction_evaluate = fraction_evaluate\n",
        "        self.min_fit_clients = min_fit_clients\n",
        "        self.min_evaluate_clients = min_evaluate_clients\n",
        "        self.min_available_clients = min_available_clients\n",
        "\n",
        "    def __repr__(self) -> str:\n",
        "        return \"FedCustom\"\n",
        "\n",
        "    def initialize_parameters(\n",
        "        self, client_manager: ClientManager\n",
        "    ) -> Optional[Parameters]:\n",
        "        \"\"\"Initialize global model parameters.\"\"\"\n",
        "        net = Net()\n",
        "        ndarrays = get_parameters(net)\n",
        "        return fl.common.ndarrays_to_parameters(ndarrays)\n",
        "\n",
        "    def configure_fit(\n",
        "        self, server_round: int, parameters: Parameters, client_manager: ClientManager\n",
        "    ) -> List[Tuple[ClientProxy, FitIns]]:\n",
        "        \"\"\"Configure the next round of training.\"\"\"\n",
        "\n",
        "        # Sample clients\n",
        "        sample_size, min_num_clients = self.num_fit_clients(\n",
        "            client_manager.num_available()\n",
        "        )\n",
        "        clients = client_manager.sample(\n",
        "            num_clients=sample_size, min_num_clients=min_num_clients\n",
        "        )\n",
        "\n",
        "        # Create custom configs\n",
        "        n_clients = len(clients)\n",
        "        half_clients = n_clients // 2\n",
        "        standard_config = {\"lr\": 0.001}\n",
        "        higher_lr_config = {\"lr\": 0.003}\n",
        "        fit_configurations = []\n",
        "        for idx, client in enumerate(clients):\n",
        "            if idx < half_clients:\n",
        "                fit_configurations.append((client, FitIns(parameters, standard_config)))\n",
        "            else:\n",
        "                fit_configurations.append(\n",
        "                    (client, FitIns(parameters, higher_lr_config))\n",
        "                )\n",
        "        return fit_configurations\n",
        "\n",
        "    def aggregate_fit(\n",
        "        self,\n",
        "        server_round: int,\n",
        "        results: List[Tuple[ClientProxy, FitRes]],\n",
        "        failures: List[Union[Tuple[ClientProxy, FitRes], BaseException]],\n",
        "    ) -> Tuple[Optional[Parameters], Dict[str, Scalar]]:\n",
        "        \"\"\"Aggregate fit results using weighted average.\"\"\"\n",
        "\n",
        "        weights_results = [\n",
        "            (parameters_to_ndarrays(fit_res.parameters), fit_res.num_examples)\n",
        "            for _, fit_res in results\n",
        "        ]\n",
        "        parameters_aggregated = ndarrays_to_parameters(aggregate(weights_results))\n",
        "        metrics_aggregated = {}\n",
        "        return parameters_aggregated, metrics_aggregated\n",
        "\n",
        "    def configure_evaluate(\n",
        "        self, server_round: int, parameters: Parameters, client_manager: ClientManager\n",
        "    ) -> List[Tuple[ClientProxy, EvaluateIns]]:\n",
        "        \"\"\"Configure the next round of evaluation.\"\"\"\n",
        "        if self.fraction_evaluate == 0.0:\n",
        "            return []\n",
        "        config = {}\n",
        "        evaluate_ins = EvaluateIns(parameters, config)\n",
        "\n",
        "        # Sample clients\n",
        "        sample_size, min_num_clients = self.num_evaluation_clients(\n",
        "            client_manager.num_available()\n",
        "        )\n",
        "        clients = client_manager.sample(\n",
        "            num_clients=sample_size, min_num_clients=min_num_clients\n",
        "        )\n",
        "\n",
        "        # Return client/config pairs\n",
        "        return [(client, evaluate_ins) for client in clients]\n",
        "\n",
        "    def aggregate_evaluate(\n",
        "        self,\n",
        "        server_round: int,\n",
        "        results: List[Tuple[ClientProxy, EvaluateRes]],\n",
        "        failures: List[Union[Tuple[ClientProxy, EvaluateRes], BaseException]],\n",
        "    ) -> Tuple[Optional[float], Dict[str, Scalar]]:\n",
        "        \"\"\"Aggregate evaluation losses using weighted average.\"\"\"\n",
        "\n",
        "        if not results:\n",
        "            return None, {}\n",
        "\n",
        "        loss_aggregated = weighted_loss_avg(\n",
        "            [\n",
        "                (evaluate_res.num_examples, evaluate_res.loss)\n",
        "                for _, evaluate_res in results\n",
        "            ]\n",
        "        )\n",
        "        metrics_aggregated = {}\n",
        "        return loss_aggregated, metrics_aggregated\n",
        "\n",
        "    def evaluate(\n",
        "        self, server_round: int, parameters: Parameters\n",
        "    ) -> Optional[Tuple[float, Dict[str, Scalar]]]:\n",
        "        \"\"\"Evaluate global model parameters using an evaluation function.\"\"\"\n",
        "\n",
        "        # Let's assume we won't perform the global model evaluation on the server side.\n",
        "        return None\n",
        "\n",
        "    def num_fit_clients(self, num_available_clients: int) -> Tuple[int, int]:\n",
        "        \"\"\"Return sample size and required number of clients.\"\"\"\n",
        "        num_clients = int(num_available_clients * self.fraction_fit)\n",
        "        return max(num_clients, self.min_fit_clients), self.min_available_clients\n",
        "\n",
        "    def num_evaluation_clients(self, num_available_clients: int) -> Tuple[int, int]:\n",
        "        \"\"\"Use a fraction of available clients for evaluation.\"\"\"\n",
        "        num_clients = int(num_available_clients * self.fraction_evaluate)\n",
        "        return max(num_clients, self.min_evaluate_clients), self.min_available_clients"
      ]
    },
    {
      "cell_type": "markdown",
      "metadata": {
        "id": "9r_kNks1bML8"
      },
      "source": [
        "The only thing left is to use the newly created custom Strategy `FedCustom` when starting the experiment:"
      ]
    },
    {
      "cell_type": "code",
      "execution_count": null,
      "metadata": {
        "colab": {
          "base_uri": "https://localhost:8080/"
        },
        "id": "kP8wYcfYbML8",
        "outputId": "31575f42-58a8-4127-8696-b9e793ba7240"
      },
      "outputs": [
        {
          "output_type": "stream",
          "name": "stderr",
          "text": [
            "\u001b[92mINFO \u001b[0m:      Starting Flower simulation, config: num_rounds=30, no round_timeout\n",
            "INFO:flwr:Starting Flower simulation, config: num_rounds=30, no round_timeout\n",
            "/usr/lib/python3.10/subprocess.py:1796: RuntimeWarning: os.fork() was called. os.fork() is incompatible with multithreaded code, and JAX is multithreaded, so this will likely lead to a deadlock.\n",
            "  self.pid = _posixsubprocess.fork_exec(\n",
            "2024-04-24 04:53:10,140\tINFO worker.py:1621 -- Started a local Ray instance.\n",
            "\u001b[92mINFO \u001b[0m:      Flower VCE: Ray initialized with resources: {'CPU': 2.0, 'memory': 7815015630.0, 'object_store_memory': 3907507814.0, 'GPU': 1.0, 'node:172.28.0.12': 1.0, 'node:__internal_head__': 1.0}\n",
            "INFO:flwr:Flower VCE: Ray initialized with resources: {'CPU': 2.0, 'memory': 7815015630.0, 'object_store_memory': 3907507814.0, 'GPU': 1.0, 'node:172.28.0.12': 1.0, 'node:__internal_head__': 1.0}\n",
            "\u001b[92mINFO \u001b[0m:      Optimize your simulation with Flower VCE: https://flower.ai/docs/framework/how-to-run-simulations.html\n",
            "INFO:flwr:Optimize your simulation with Flower VCE: https://flower.ai/docs/framework/how-to-run-simulations.html\n",
            "\u001b[92mINFO \u001b[0m:      No `client_resources` specified. Using minimal resources for clients.\n",
            "INFO:flwr:No `client_resources` specified. Using minimal resources for clients.\n",
            "\u001b[92mINFO \u001b[0m:      Flower VCE: Resources for each Virtual Client: {'num_cpus': 1, 'num_gpus': 0.0}\n",
            "INFO:flwr:Flower VCE: Resources for each Virtual Client: {'num_cpus': 1, 'num_gpus': 0.0}\n",
            "\u001b[92mINFO \u001b[0m:      Flower VCE: Creating VirtualClientEngineActorPool with 2 actors\n",
            "INFO:flwr:Flower VCE: Creating VirtualClientEngineActorPool with 2 actors\n",
            "\u001b[92mINFO \u001b[0m:      [INIT]\n",
            "INFO:flwr:[INIT]\n",
            "\u001b[92mINFO \u001b[0m:      Using initial global parameters provided by strategy\n",
            "INFO:flwr:Using initial global parameters provided by strategy\n",
            "\u001b[92mINFO \u001b[0m:      Evaluating initial global parameters\n",
            "INFO:flwr:Evaluating initial global parameters\n",
            "\u001b[92mINFO \u001b[0m:      \n",
            "INFO:flwr:\n",
            "\u001b[92mINFO \u001b[0m:      [ROUND 1]\n",
            "INFO:flwr:[ROUND 1]\n",
            "\u001b[92mINFO \u001b[0m:      configure_fit: strategy sampled 2 clients (out of 2)\n",
            "INFO:flwr:configure_fit: strategy sampled 2 clients (out of 2)\n",
            "\u001b[2m\u001b[36m(pid=3663)\u001b[0m 2024-04-24 04:53:15.778392: E external/local_xla/xla/stream_executor/cuda/cuda_dnn.cc:9261] Unable to register cuDNN factory: Attempting to register factory for plugin cuDNN when one has already been registered\n",
            "\u001b[2m\u001b[36m(pid=3663)\u001b[0m 2024-04-24 04:53:15.778457: E external/local_xla/xla/stream_executor/cuda/cuda_fft.cc:607] Unable to register cuFFT factory: Attempting to register factory for plugin cuFFT when one has already been registered\n",
            "\u001b[2m\u001b[36m(pid=3663)\u001b[0m 2024-04-24 04:53:15.783078: E external/local_xla/xla/stream_executor/cuda/cuda_blas.cc:1515] Unable to register cuBLAS factory: Attempting to register factory for plugin cuBLAS when one has already been registered\n",
            "\u001b[2m\u001b[36m(pid=3662)\u001b[0m 2024-04-24 04:53:18.364966: W tensorflow/compiler/tf2tensorrt/utils/py_utils.cc:38] TF-TRT Warning: Could not find TensorRT\n",
            "\u001b[2m\u001b[36m(ClientAppActor pid=3663)\u001b[0m \u001b[93mWARNING \u001b[0m:   Deprecation Warning: The `client_fn` function must return an instance of `Client`, but an instance of `NumpyClient` was returned. Please use `NumPyClient.to_client()` method to convert it to `Client`.\n",
            "\u001b[2m\u001b[36m(pid=3662)\u001b[0m 2024-04-24 04:53:15.933235: E external/local_xla/xla/stream_executor/cuda/cuda_dnn.cc:9261] Unable to register cuDNN factory: Attempting to register factory for plugin cuDNN when one has already been registered\n",
            "\u001b[2m\u001b[36m(pid=3662)\u001b[0m 2024-04-24 04:53:15.933288: E external/local_xla/xla/stream_executor/cuda/cuda_fft.cc:607] Unable to register cuFFT factory: Attempting to register factory for plugin cuFFT when one has already been registered\n",
            "\u001b[2m\u001b[36m(pid=3662)\u001b[0m 2024-04-24 04:53:15.936817: E external/local_xla/xla/stream_executor/cuda/cuda_blas.cc:1515] Unable to register cuBLAS factory: Attempting to register factory for plugin cuBLAS when one has already been registered\n",
            "\u001b[2m\u001b[36m(pid=3663)\u001b[0m 2024-04-24 04:53:18.445338: W tensorflow/compiler/tf2tensorrt/utils/py_utils.cc:38] TF-TRT Warning: Could not find TensorRT\n"
          ]
        },
        {
          "output_type": "stream",
          "name": "stdout",
          "text": [
            "\u001b[2m\u001b[36m(ClientAppActor pid=3663)\u001b[0m [Client 1] fit, config: {'lr': 0.001}\n"
          ]
        },
        {
          "output_type": "stream",
          "name": "stderr",
          "text": [
            "\u001b[92mINFO \u001b[0m:      aggregate_fit: received 2 results and 0 failures\n",
            "INFO:flwr:aggregate_fit: received 2 results and 0 failures\n",
            "\u001b[92mINFO \u001b[0m:      configure_evaluate: strategy sampled 2 clients (out of 2)\n",
            "INFO:flwr:configure_evaluate: strategy sampled 2 clients (out of 2)\n"
          ]
        },
        {
          "output_type": "stream",
          "name": "stdout",
          "text": [
            "\u001b[2m\u001b[36m(ClientAppActor pid=3663)\u001b[0m Epoch 1: train loss 0.06439194828271866, accuracy 0.23733333333333334\n",
            "\u001b[2m\u001b[36m(ClientAppActor pid=3662)\u001b[0m [Client 0] fit, config: {'lr': 0.003}\n"
          ]
        },
        {
          "output_type": "stream",
          "name": "stderr",
          "text": [
            "\u001b[2m\u001b[36m(ClientAppActor pid=3663)\u001b[0m \u001b[93mWARNING \u001b[0m:   Deprecation Warning: The `client_fn` function must return an instance of `Client`, but an instance of `NumpyClient` was returned. Please use `NumPyClient.to_client()` method to convert it to `Client`.\u001b[32m [repeated 2x across cluster]\u001b[0m\n"
          ]
        },
        {
          "output_type": "stream",
          "name": "stdout",
          "text": [
            "\u001b[2m\u001b[36m(ClientAppActor pid=3663)\u001b[0m [Client 1] evaluate, config: {}\n"
          ]
        },
        {
          "output_type": "stream",
          "name": "stderr",
          "text": [
            "\u001b[92mINFO \u001b[0m:      aggregate_evaluate: received 2 results and 0 failures\n",
            "INFO:flwr:aggregate_evaluate: received 2 results and 0 failures\n",
            "\u001b[92mINFO \u001b[0m:      \n",
            "INFO:flwr:\n",
            "\u001b[92mINFO \u001b[0m:      [ROUND 2]\n",
            "INFO:flwr:[ROUND 2]\n",
            "\u001b[92mINFO \u001b[0m:      configure_fit: strategy sampled 2 clients (out of 2)\n",
            "INFO:flwr:configure_fit: strategy sampled 2 clients (out of 2)\n"
          ]
        },
        {
          "output_type": "stream",
          "name": "stdout",
          "text": [
            "\u001b[2m\u001b[36m(ClientAppActor pid=3662)\u001b[0m [Client 1] fit, config: {'lr': 0.001}\n",
            "\u001b[2m\u001b[36m(ClientAppActor pid=3662)\u001b[0m Epoch 1: train loss 0.06450014561414719, accuracy 0.242\n"
          ]
        },
        {
          "output_type": "stream",
          "name": "stderr",
          "text": [
            "\u001b[2m\u001b[36m(ClientAppActor pid=3663)\u001b[0m \u001b[93mWARNING \u001b[0m:   Deprecation Warning: The `client_fn` function must return an instance of `Client`, but an instance of `NumpyClient` was returned. Please use `NumPyClient.to_client()` method to convert it to `Client`.\u001b[32m [repeated 3x across cluster]\u001b[0m\n"
          ]
        },
        {
          "output_type": "stream",
          "name": "stdout",
          "text": [
            "\u001b[2m\u001b[36m(ClientAppActor pid=3662)\u001b[0m [Client 0] evaluate, config: {}\n",
            "\u001b[2m\u001b[36m(ClientAppActor pid=3662)\u001b[0m Epoch 1: train loss 0.055980633944272995, accuracy 0.3451111111111111\n"
          ]
        },
        {
          "output_type": "stream",
          "name": "stderr",
          "text": [
            "\u001b[92mINFO \u001b[0m:      aggregate_fit: received 2 results and 0 failures\n",
            "INFO:flwr:aggregate_fit: received 2 results and 0 failures\n",
            "\u001b[92mINFO \u001b[0m:      configure_evaluate: strategy sampled 2 clients (out of 2)\n",
            "INFO:flwr:configure_evaluate: strategy sampled 2 clients (out of 2)\n",
            "\u001b[2m\u001b[36m(ClientAppActor pid=3663)\u001b[0m \u001b[93mWARNING \u001b[0m:   Deprecation Warning: The `client_fn` function must return an instance of `Client`, but an instance of `NumpyClient` was returned. Please use `NumPyClient.to_client()` method to convert it to `Client`.\n"
          ]
        },
        {
          "output_type": "stream",
          "name": "stdout",
          "text": [
            "\u001b[2m\u001b[36m(ClientAppActor pid=3663)\u001b[0m [Client 0] evaluate, config: {}\n",
            "\u001b[2m\u001b[36m(ClientAppActor pid=3663)\u001b[0m [Client 0] fit, config: {'lr': 0.003}\n"
          ]
        },
        {
          "output_type": "stream",
          "name": "stderr",
          "text": [
            "\u001b[2m\u001b[36m(ClientAppActor pid=3662)\u001b[0m \u001b[93mWARNING \u001b[0m:   Deprecation Warning: The `client_fn` function must return an instance of `Client`, but an instance of `NumpyClient` was returned. Please use `NumPyClient.to_client()` method to convert it to `Client`.\n",
            "\u001b[92mINFO \u001b[0m:      aggregate_evaluate: received 2 results and 0 failures\n",
            "INFO:flwr:aggregate_evaluate: received 2 results and 0 failures\n",
            "\u001b[92mINFO \u001b[0m:      \n",
            "INFO:flwr:\n",
            "\u001b[92mINFO \u001b[0m:      [ROUND 3]\n",
            "INFO:flwr:[ROUND 3]\n",
            "\u001b[92mINFO \u001b[0m:      configure_fit: strategy sampled 2 clients (out of 2)\n",
            "INFO:flwr:configure_fit: strategy sampled 2 clients (out of 2)\n",
            "\u001b[2m\u001b[36m(ClientAppActor pid=3662)\u001b[0m \u001b[93mWARNING \u001b[0m:   Deprecation Warning: The `client_fn` function must return an instance of `Client`, but an instance of `NumpyClient` was returned. Please use `NumPyClient.to_client()` method to convert it to `Client`.\n"
          ]
        },
        {
          "output_type": "stream",
          "name": "stdout",
          "text": [
            "\u001b[2m\u001b[36m(ClientAppActor pid=3662)\u001b[0m [Client 1] fit, config: {'lr': 0.001}\n",
            "\u001b[2m\u001b[36m(ClientAppActor pid=3663)\u001b[0m Epoch 1: train loss 0.05705547332763672, accuracy 0.33644444444444443\n",
            "\u001b[2m\u001b[36m(ClientAppActor pid=3662)\u001b[0m Epoch 1: train loss 0.05218563228845596, accuracy 0.39022222222222225\n",
            "\u001b[2m\u001b[36m(ClientAppActor pid=3662)\u001b[0m [Client 1] evaluate, config: {}\n",
            "\u001b[2m\u001b[36m(ClientAppActor pid=3663)\u001b[0m [Client 0] fit, config: {'lr': 0.003}\n"
          ]
        },
        {
          "output_type": "stream",
          "name": "stderr",
          "text": [
            "\u001b[92mINFO \u001b[0m:      aggregate_fit: received 2 results and 0 failures\n",
            "INFO:flwr:aggregate_fit: received 2 results and 0 failures\n",
            "\u001b[92mINFO \u001b[0m:      configure_evaluate: strategy sampled 2 clients (out of 2)\n",
            "INFO:flwr:configure_evaluate: strategy sampled 2 clients (out of 2)\n",
            "\u001b[2m\u001b[36m(ClientAppActor pid=3663)\u001b[0m \u001b[93mWARNING \u001b[0m:   Deprecation Warning: The `client_fn` function must return an instance of `Client`, but an instance of `NumpyClient` was returned. Please use `NumPyClient.to_client()` method to convert it to `Client`.\u001b[32m [repeated 2x across cluster]\u001b[0m\n"
          ]
        },
        {
          "output_type": "stream",
          "name": "stdout",
          "text": [
            "\u001b[2m\u001b[36m(ClientAppActor pid=3663)\u001b[0m [Client 0] evaluate, config: {}\n"
          ]
        },
        {
          "output_type": "stream",
          "name": "stderr",
          "text": [
            "\u001b[92mINFO \u001b[0m:      aggregate_evaluate: received 2 results and 0 failures\n",
            "INFO:flwr:aggregate_evaluate: received 2 results and 0 failures\n",
            "\u001b[92mINFO \u001b[0m:      \n",
            "INFO:flwr:\n",
            "\u001b[92mINFO \u001b[0m:      [ROUND 4]\n",
            "INFO:flwr:[ROUND 4]\n",
            "\u001b[92mINFO \u001b[0m:      configure_fit: strategy sampled 2 clients (out of 2)\n",
            "INFO:flwr:configure_fit: strategy sampled 2 clients (out of 2)\n"
          ]
        },
        {
          "output_type": "stream",
          "name": "stdout",
          "text": [
            "\u001b[2m\u001b[36m(ClientAppActor pid=3662)\u001b[0m [Client 0] fit, config: {'lr': 0.001}\n",
            "\u001b[2m\u001b[36m(ClientAppActor pid=3663)\u001b[0m Epoch 1: train loss 0.05316000059247017, accuracy 0.3828888888888889\n",
            "\u001b[2m\u001b[36m(ClientAppActor pid=3662)\u001b[0m Epoch 1: train loss 0.050618138164281845, accuracy 0.412\n",
            "\u001b[2m\u001b[36m(ClientAppActor pid=3662)\u001b[0m [Client 1] evaluate, config: {}\n"
          ]
        },
        {
          "output_type": "stream",
          "name": "stderr",
          "text": [
            "\u001b[92mINFO \u001b[0m:      aggregate_fit: received 2 results and 0 failures\n",
            "INFO:flwr:aggregate_fit: received 2 results and 0 failures\n",
            "\u001b[92mINFO \u001b[0m:      configure_evaluate: strategy sampled 2 clients (out of 2)\n",
            "INFO:flwr:configure_evaluate: strategy sampled 2 clients (out of 2)\n",
            "\u001b[2m\u001b[36m(ClientAppActor pid=3663)\u001b[0m \u001b[93mWARNING \u001b[0m:   Deprecation Warning: The `client_fn` function must return an instance of `Client`, but an instance of `NumpyClient` was returned. Please use `NumPyClient.to_client()` method to convert it to `Client`.\u001b[32m [repeated 4x across cluster]\u001b[0m\n"
          ]
        },
        {
          "output_type": "stream",
          "name": "stdout",
          "text": [
            "\u001b[2m\u001b[36m(ClientAppActor pid=3663)\u001b[0m [Client 0] evaluate, config: {}\n",
            "\u001b[2m\u001b[36m(ClientAppActor pid=3663)\u001b[0m [Client 1] fit, config: {'lr': 0.003}\n"
          ]
        },
        {
          "output_type": "stream",
          "name": "stderr",
          "text": [
            "\u001b[92mINFO \u001b[0m:      aggregate_evaluate: received 2 results and 0 failures\n",
            "INFO:flwr:aggregate_evaluate: received 2 results and 0 failures\n",
            "\u001b[92mINFO \u001b[0m:      \n",
            "INFO:flwr:\n",
            "\u001b[92mINFO \u001b[0m:      [ROUND 5]\n",
            "INFO:flwr:[ROUND 5]\n",
            "\u001b[92mINFO \u001b[0m:      configure_fit: strategy sampled 2 clients (out of 2)\n",
            "INFO:flwr:configure_fit: strategy sampled 2 clients (out of 2)\n"
          ]
        },
        {
          "output_type": "stream",
          "name": "stdout",
          "text": [
            "\u001b[2m\u001b[36m(ClientAppActor pid=3663)\u001b[0m Epoch 1: train loss 0.049629516899585724, accuracy 0.42733333333333334\n",
            "\u001b[2m\u001b[36m(ClientAppActor pid=3662)\u001b[0m [Client 1] fit, config: {'lr': 0.001}\n",
            "\u001b[2m\u001b[36m(ClientAppActor pid=3662)\u001b[0m Epoch 1: train loss 0.04758487641811371, accuracy 0.446\n",
            "\u001b[2m\u001b[36m(ClientAppActor pid=3662)\u001b[0m [Client 1] evaluate, config: {}\n"
          ]
        },
        {
          "output_type": "stream",
          "name": "stderr",
          "text": [
            "\u001b[92mINFO \u001b[0m:      aggregate_fit: received 2 results and 0 failures\n",
            "INFO:flwr:aggregate_fit: received 2 results and 0 failures\n",
            "\u001b[92mINFO \u001b[0m:      configure_evaluate: strategy sampled 2 clients (out of 2)\n",
            "INFO:flwr:configure_evaluate: strategy sampled 2 clients (out of 2)\n"
          ]
        },
        {
          "output_type": "stream",
          "name": "stdout",
          "text": [
            "\u001b[2m\u001b[36m(ClientAppActor pid=3663)\u001b[0m [Client 0] fit, config: {'lr': 0.003}\n"
          ]
        },
        {
          "output_type": "stream",
          "name": "stderr",
          "text": [
            "\u001b[2m\u001b[36m(ClientAppActor pid=3663)\u001b[0m \u001b[93mWARNING \u001b[0m:   Deprecation Warning: The `client_fn` function must return an instance of `Client`, but an instance of `NumpyClient` was returned. Please use `NumPyClient.to_client()` method to convert it to `Client`.\u001b[32m [repeated 4x across cluster]\u001b[0m\n"
          ]
        },
        {
          "output_type": "stream",
          "name": "stdout",
          "text": [
            "\u001b[2m\u001b[36m(ClientAppActor pid=3663)\u001b[0m [Client 1] evaluate, config: {}\n"
          ]
        },
        {
          "output_type": "stream",
          "name": "stderr",
          "text": [
            "\u001b[92mINFO \u001b[0m:      aggregate_evaluate: received 2 results and 0 failures\n",
            "INFO:flwr:aggregate_evaluate: received 2 results and 0 failures\n",
            "\u001b[92mINFO \u001b[0m:      \n",
            "INFO:flwr:\n",
            "\u001b[92mINFO \u001b[0m:      [ROUND 6]\n",
            "INFO:flwr:[ROUND 6]\n",
            "\u001b[92mINFO \u001b[0m:      configure_fit: strategy sampled 2 clients (out of 2)\n",
            "INFO:flwr:configure_fit: strategy sampled 2 clients (out of 2)\n"
          ]
        },
        {
          "output_type": "stream",
          "name": "stdout",
          "text": [
            "\u001b[2m\u001b[36m(ClientAppActor pid=3663)\u001b[0m Epoch 1: train loss 0.04839835688471794, accuracy 0.4508888888888889\n",
            "\u001b[2m\u001b[36m(ClientAppActor pid=3662)\u001b[0m [Client 1] fit, config: {'lr': 0.001}\n",
            "\u001b[2m\u001b[36m(ClientAppActor pid=3662)\u001b[0m Epoch 1: train loss 0.04599125683307648, accuracy 0.4766666666666667\n",
            "\u001b[2m\u001b[36m(ClientAppActor pid=3662)\u001b[0m [Client 0] evaluate, config: {}\n"
          ]
        },
        {
          "output_type": "stream",
          "name": "stderr",
          "text": [
            "\u001b[92mINFO \u001b[0m:      aggregate_fit: received 2 results and 0 failures\n",
            "INFO:flwr:aggregate_fit: received 2 results and 0 failures\n",
            "\u001b[92mINFO \u001b[0m:      configure_evaluate: strategy sampled 2 clients (out of 2)\n",
            "INFO:flwr:configure_evaluate: strategy sampled 2 clients (out of 2)\n",
            "\u001b[2m\u001b[36m(ClientAppActor pid=3663)\u001b[0m \u001b[93mWARNING \u001b[0m:   Deprecation Warning: The `client_fn` function must return an instance of `Client`, but an instance of `NumpyClient` was returned. Please use `NumPyClient.to_client()` method to convert it to `Client`.\u001b[32m [repeated 4x across cluster]\u001b[0m\n"
          ]
        },
        {
          "output_type": "stream",
          "name": "stdout",
          "text": [
            "\u001b[2m\u001b[36m(ClientAppActor pid=3663)\u001b[0m [Client 0] evaluate, config: {}\n",
            "\u001b[2m\u001b[36m(ClientAppActor pid=3663)\u001b[0m [Client 0] fit, config: {'lr': 0.003}\n"
          ]
        },
        {
          "output_type": "stream",
          "name": "stderr",
          "text": [
            "\u001b[92mINFO \u001b[0m:      aggregate_evaluate: received 2 results and 0 failures\n",
            "INFO:flwr:aggregate_evaluate: received 2 results and 0 failures\n",
            "\u001b[92mINFO \u001b[0m:      \n",
            "INFO:flwr:\n",
            "\u001b[92mINFO \u001b[0m:      [ROUND 7]\n",
            "INFO:flwr:[ROUND 7]\n",
            "\u001b[92mINFO \u001b[0m:      configure_fit: strategy sampled 2 clients (out of 2)\n",
            "INFO:flwr:configure_fit: strategy sampled 2 clients (out of 2)\n"
          ]
        },
        {
          "output_type": "stream",
          "name": "stdout",
          "text": [
            "\u001b[2m\u001b[36m(ClientAppActor pid=3662)\u001b[0m [Client 0] fit, config: {'lr': 0.001}\n",
            "\u001b[2m\u001b[36m(ClientAppActor pid=3663)\u001b[0m Epoch 1: train loss 0.046773761510849, accuracy 0.4653333333333333\n",
            "\u001b[2m\u001b[36m(ClientAppActor pid=3662)\u001b[0m Epoch 1: train loss 0.04561980813741684, accuracy 0.4786666666666667\n",
            "\u001b[2m\u001b[36m(ClientAppActor pid=3662)\u001b[0m [Client 1] evaluate, config: {}\n"
          ]
        },
        {
          "output_type": "stream",
          "name": "stderr",
          "text": [
            "\u001b[92mINFO \u001b[0m:      aggregate_fit: received 2 results and 0 failures\n",
            "INFO:flwr:aggregate_fit: received 2 results and 0 failures\n",
            "\u001b[92mINFO \u001b[0m:      configure_evaluate: strategy sampled 2 clients (out of 2)\n",
            "INFO:flwr:configure_evaluate: strategy sampled 2 clients (out of 2)\n"
          ]
        },
        {
          "output_type": "stream",
          "name": "stdout",
          "text": [
            "\u001b[2m\u001b[36m(ClientAppActor pid=3663)\u001b[0m [Client 1] fit, config: {'lr': 0.003}\n"
          ]
        },
        {
          "output_type": "stream",
          "name": "stderr",
          "text": [
            "\u001b[2m\u001b[36m(ClientAppActor pid=3663)\u001b[0m \u001b[93mWARNING \u001b[0m:   Deprecation Warning: The `client_fn` function must return an instance of `Client`, but an instance of `NumpyClient` was returned. Please use `NumPyClient.to_client()` method to convert it to `Client`.\u001b[32m [repeated 4x across cluster]\u001b[0m\n"
          ]
        },
        {
          "output_type": "stream",
          "name": "stdout",
          "text": [
            "\u001b[2m\u001b[36m(ClientAppActor pid=3663)\u001b[0m [Client 1] evaluate, config: {}\n"
          ]
        },
        {
          "output_type": "stream",
          "name": "stderr",
          "text": [
            "\u001b[92mINFO \u001b[0m:      aggregate_evaluate: received 2 results and 0 failures\n",
            "INFO:flwr:aggregate_evaluate: received 2 results and 0 failures\n",
            "\u001b[92mINFO \u001b[0m:      \n",
            "INFO:flwr:\n",
            "\u001b[92mINFO \u001b[0m:      [ROUND 8]\n",
            "INFO:flwr:[ROUND 8]\n",
            "\u001b[92mINFO \u001b[0m:      configure_fit: strategy sampled 2 clients (out of 2)\n",
            "INFO:flwr:configure_fit: strategy sampled 2 clients (out of 2)\n"
          ]
        },
        {
          "output_type": "stream",
          "name": "stdout",
          "text": [
            "\u001b[2m\u001b[36m(ClientAppActor pid=3662)\u001b[0m [Client 1] fit, config: {'lr': 0.001}\n",
            "\u001b[2m\u001b[36m(ClientAppActor pid=3663)\u001b[0m Epoch 1: train loss 0.044750262051820755, accuracy 0.4908888888888889\n",
            "\u001b[2m\u001b[36m(ClientAppActor pid=3662)\u001b[0m Epoch 1: train loss 0.04350223392248154, accuracy 0.5117777777777778\n",
            "\u001b[2m\u001b[36m(ClientAppActor pid=3662)\u001b[0m [Client 0] evaluate, config: {}\n"
          ]
        },
        {
          "output_type": "stream",
          "name": "stderr",
          "text": [
            "\u001b[92mINFO \u001b[0m:      aggregate_fit: received 2 results and 0 failures\n",
            "INFO:flwr:aggregate_fit: received 2 results and 0 failures\n",
            "\u001b[92mINFO \u001b[0m:      configure_evaluate: strategy sampled 2 clients (out of 2)\n",
            "INFO:flwr:configure_evaluate: strategy sampled 2 clients (out of 2)\n"
          ]
        },
        {
          "output_type": "stream",
          "name": "stdout",
          "text": [
            "\u001b[2m\u001b[36m(ClientAppActor pid=3663)\u001b[0m [Client 0] fit, config: {'lr': 0.003}\n"
          ]
        },
        {
          "output_type": "stream",
          "name": "stderr",
          "text": [
            "\u001b[2m\u001b[36m(ClientAppActor pid=3663)\u001b[0m \u001b[93mWARNING \u001b[0m:   Deprecation Warning: The `client_fn` function must return an instance of `Client`, but an instance of `NumpyClient` was returned. Please use `NumPyClient.to_client()` method to convert it to `Client`.\u001b[32m [repeated 4x across cluster]\u001b[0m\n"
          ]
        },
        {
          "output_type": "stream",
          "name": "stdout",
          "text": [
            "\u001b[2m\u001b[36m(ClientAppActor pid=3663)\u001b[0m [Client 1] evaluate, config: {}\n"
          ]
        },
        {
          "output_type": "stream",
          "name": "stderr",
          "text": [
            "\u001b[92mINFO \u001b[0m:      aggregate_evaluate: received 2 results and 0 failures\n",
            "INFO:flwr:aggregate_evaluate: received 2 results and 0 failures\n",
            "\u001b[92mINFO \u001b[0m:      \n",
            "INFO:flwr:\n",
            "\u001b[92mINFO \u001b[0m:      [ROUND 9]\n",
            "INFO:flwr:[ROUND 9]\n",
            "\u001b[92mINFO \u001b[0m:      configure_fit: strategy sampled 2 clients (out of 2)\n",
            "INFO:flwr:configure_fit: strategy sampled 2 clients (out of 2)\n"
          ]
        },
        {
          "output_type": "stream",
          "name": "stdout",
          "text": [
            "\u001b[2m\u001b[36m(ClientAppActor pid=3662)\u001b[0m [Client 1] fit, config: {'lr': 0.001}\n",
            "\u001b[2m\u001b[36m(ClientAppActor pid=3663)\u001b[0m Epoch 1: train loss 0.04438437521457672, accuracy 0.49\n",
            "\u001b[2m\u001b[36m(ClientAppActor pid=3662)\u001b[0m Epoch 1: train loss 0.04197406768798828, accuracy 0.522\n",
            "\u001b[2m\u001b[36m(ClientAppActor pid=3662)\u001b[0m [Client 0] evaluate, config: {}\n"
          ]
        },
        {
          "output_type": "stream",
          "name": "stderr",
          "text": [
            "\u001b[92mINFO \u001b[0m:      aggregate_fit: received 2 results and 0 failures\n",
            "INFO:flwr:aggregate_fit: received 2 results and 0 failures\n",
            "\u001b[92mINFO \u001b[0m:      configure_evaluate: strategy sampled 2 clients (out of 2)\n",
            "INFO:flwr:configure_evaluate: strategy sampled 2 clients (out of 2)\n"
          ]
        },
        {
          "output_type": "stream",
          "name": "stdout",
          "text": [
            "\u001b[2m\u001b[36m(ClientAppActor pid=3663)\u001b[0m [Client 0] fit, config: {'lr': 0.003}\n"
          ]
        },
        {
          "output_type": "stream",
          "name": "stderr",
          "text": [
            "\u001b[2m\u001b[36m(ClientAppActor pid=3663)\u001b[0m \u001b[93mWARNING \u001b[0m:   Deprecation Warning: The `client_fn` function must return an instance of `Client`, but an instance of `NumpyClient` was returned. Please use `NumPyClient.to_client()` method to convert it to `Client`.\u001b[32m [repeated 4x across cluster]\u001b[0m\n"
          ]
        },
        {
          "output_type": "stream",
          "name": "stdout",
          "text": [
            "\u001b[2m\u001b[36m(ClientAppActor pid=3663)\u001b[0m [Client 1] evaluate, config: {}\n"
          ]
        },
        {
          "output_type": "stream",
          "name": "stderr",
          "text": [
            "\u001b[92mINFO \u001b[0m:      aggregate_evaluate: received 2 results and 0 failures\n",
            "INFO:flwr:aggregate_evaluate: received 2 results and 0 failures\n",
            "\u001b[92mINFO \u001b[0m:      \n",
            "INFO:flwr:\n",
            "\u001b[92mINFO \u001b[0m:      [ROUND 10]\n",
            "INFO:flwr:[ROUND 10]\n",
            "\u001b[92mINFO \u001b[0m:      configure_fit: strategy sampled 2 clients (out of 2)\n",
            "INFO:flwr:configure_fit: strategy sampled 2 clients (out of 2)\n"
          ]
        },
        {
          "output_type": "stream",
          "name": "stdout",
          "text": [
            "\u001b[2m\u001b[36m(ClientAppActor pid=3663)\u001b[0m Epoch 1: train loss 0.043290771543979645, accuracy 0.5111111111111111\n",
            "\u001b[2m\u001b[36m(ClientAppActor pid=3662)\u001b[0m [Client 1] fit, config: {'lr': 0.001}\n",
            "\u001b[2m\u001b[36m(ClientAppActor pid=3662)\u001b[0m Epoch 1: train loss 0.04079389199614525, accuracy 0.5377777777777778\n",
            "\u001b[2m\u001b[36m(ClientAppActor pid=3662)\u001b[0m [Client 0] evaluate, config: {}\n"
          ]
        },
        {
          "output_type": "stream",
          "name": "stderr",
          "text": [
            "\u001b[92mINFO \u001b[0m:      aggregate_fit: received 2 results and 0 failures\n",
            "INFO:flwr:aggregate_fit: received 2 results and 0 failures\n",
            "\u001b[92mINFO \u001b[0m:      configure_evaluate: strategy sampled 2 clients (out of 2)\n",
            "INFO:flwr:configure_evaluate: strategy sampled 2 clients (out of 2)\n",
            "\u001b[2m\u001b[36m(ClientAppActor pid=3663)\u001b[0m \u001b[93mWARNING \u001b[0m:   Deprecation Warning: The `client_fn` function must return an instance of `Client`, but an instance of `NumpyClient` was returned. Please use `NumPyClient.to_client()` method to convert it to `Client`.\u001b[32m [repeated 4x across cluster]\u001b[0m\n"
          ]
        },
        {
          "output_type": "stream",
          "name": "stdout",
          "text": [
            "\u001b[2m\u001b[36m(ClientAppActor pid=3663)\u001b[0m [Client 0] evaluate, config: {}\n",
            "\u001b[2m\u001b[36m(ClientAppActor pid=3663)\u001b[0m [Client 0] fit, config: {'lr': 0.003}\n",
            "\u001b[2m\u001b[36m(ClientAppActor pid=3663)\u001b[0m Epoch 1: train loss 0.041852470487356186, accuracy 0.5253333333333333\n"
          ]
        },
        {
          "output_type": "stream",
          "name": "stderr",
          "text": [
            "\u001b[92mINFO \u001b[0m:      aggregate_evaluate: received 2 results and 0 failures\n",
            "INFO:flwr:aggregate_evaluate: received 2 results and 0 failures\n",
            "\u001b[92mINFO \u001b[0m:      \n",
            "INFO:flwr:\n",
            "\u001b[92mINFO \u001b[0m:      [ROUND 11]\n",
            "INFO:flwr:[ROUND 11]\n",
            "\u001b[92mINFO \u001b[0m:      configure_fit: strategy sampled 2 clients (out of 2)\n",
            "INFO:flwr:configure_fit: strategy sampled 2 clients (out of 2)\n"
          ]
        },
        {
          "output_type": "stream",
          "name": "stdout",
          "text": [
            "\u001b[2m\u001b[36m(ClientAppActor pid=3662)\u001b[0m [Client 1] fit, config: {'lr': 0.001}\n",
            "\u001b[2m\u001b[36m(ClientAppActor pid=3662)\u001b[0m Epoch 1: train loss 0.0394943542778492, accuracy 0.5453333333333333\n",
            "\u001b[2m\u001b[36m(ClientAppActor pid=3662)\u001b[0m [Client 1] evaluate, config: {}\n"
          ]
        },
        {
          "output_type": "stream",
          "name": "stderr",
          "text": [
            "\u001b[92mINFO \u001b[0m:      aggregate_fit: received 2 results and 0 failures\n",
            "INFO:flwr:aggregate_fit: received 2 results and 0 failures\n",
            "\u001b[92mINFO \u001b[0m:      configure_evaluate: strategy sampled 2 clients (out of 2)\n",
            "INFO:flwr:configure_evaluate: strategy sampled 2 clients (out of 2)\n",
            "\u001b[2m\u001b[36m(ClientAppActor pid=3663)\u001b[0m \u001b[93mWARNING \u001b[0m:   Deprecation Warning: The `client_fn` function must return an instance of `Client`, but an instance of `NumpyClient` was returned. Please use `NumPyClient.to_client()` method to convert it to `Client`.\u001b[32m [repeated 4x across cluster]\u001b[0m\n"
          ]
        },
        {
          "output_type": "stream",
          "name": "stdout",
          "text": [
            "\u001b[2m\u001b[36m(ClientAppActor pid=3663)\u001b[0m [Client 0] evaluate, config: {}\n",
            "\u001b[2m\u001b[36m(ClientAppActor pid=3663)\u001b[0m [Client 0] fit, config: {'lr': 0.003}\n"
          ]
        },
        {
          "output_type": "stream",
          "name": "stderr",
          "text": [
            "\u001b[92mINFO \u001b[0m:      aggregate_evaluate: received 2 results and 0 failures\n",
            "INFO:flwr:aggregate_evaluate: received 2 results and 0 failures\n",
            "\u001b[92mINFO \u001b[0m:      \n",
            "INFO:flwr:\n",
            "\u001b[92mINFO \u001b[0m:      [ROUND 12]\n",
            "INFO:flwr:[ROUND 12]\n",
            "\u001b[92mINFO \u001b[0m:      configure_fit: strategy sampled 2 clients (out of 2)\n",
            "INFO:flwr:configure_fit: strategy sampled 2 clients (out of 2)\n"
          ]
        },
        {
          "output_type": "stream",
          "name": "stdout",
          "text": [
            "\u001b[2m\u001b[36m(ClientAppActor pid=3662)\u001b[0m [Client 1] fit, config: {'lr': 0.001}\n",
            "\u001b[2m\u001b[36m(ClientAppActor pid=3663)\u001b[0m Epoch 1: train loss 0.040855977684259415, accuracy 0.5422222222222223\n",
            "\u001b[2m\u001b[36m(ClientAppActor pid=3662)\u001b[0m Epoch 1: train loss 0.038284845650196075, accuracy 0.5664444444444444\n",
            "\u001b[2m\u001b[36m(ClientAppActor pid=3662)\u001b[0m [Client 1] evaluate, config: {}\n"
          ]
        },
        {
          "output_type": "stream",
          "name": "stderr",
          "text": [
            "\u001b[92mINFO \u001b[0m:      aggregate_fit: received 2 results and 0 failures\n",
            "INFO:flwr:aggregate_fit: received 2 results and 0 failures\n",
            "\u001b[92mINFO \u001b[0m:      configure_evaluate: strategy sampled 2 clients (out of 2)\n",
            "INFO:flwr:configure_evaluate: strategy sampled 2 clients (out of 2)\n"
          ]
        },
        {
          "output_type": "stream",
          "name": "stdout",
          "text": [
            "\u001b[2m\u001b[36m(ClientAppActor pid=3663)\u001b[0m [Client 0] fit, config: {'lr': 0.003}\n"
          ]
        },
        {
          "output_type": "stream",
          "name": "stderr",
          "text": [
            "\u001b[2m\u001b[36m(ClientAppActor pid=3663)\u001b[0m \u001b[93mWARNING \u001b[0m:   Deprecation Warning: The `client_fn` function must return an instance of `Client`, but an instance of `NumpyClient` was returned. Please use `NumPyClient.to_client()` method to convert it to `Client`.\u001b[32m [repeated 4x across cluster]\u001b[0m\n"
          ]
        },
        {
          "output_type": "stream",
          "name": "stdout",
          "text": [
            "\u001b[2m\u001b[36m(ClientAppActor pid=3663)\u001b[0m [Client 1] evaluate, config: {}\n"
          ]
        },
        {
          "output_type": "stream",
          "name": "stderr",
          "text": [
            "\u001b[92mINFO \u001b[0m:      aggregate_evaluate: received 2 results and 0 failures\n",
            "INFO:flwr:aggregate_evaluate: received 2 results and 0 failures\n",
            "\u001b[92mINFO \u001b[0m:      \n",
            "INFO:flwr:\n",
            "\u001b[92mINFO \u001b[0m:      [ROUND 13]\n",
            "INFO:flwr:[ROUND 13]\n",
            "\u001b[92mINFO \u001b[0m:      configure_fit: strategy sampled 2 clients (out of 2)\n",
            "INFO:flwr:configure_fit: strategy sampled 2 clients (out of 2)\n"
          ]
        },
        {
          "output_type": "stream",
          "name": "stdout",
          "text": [
            "\u001b[2m\u001b[36m(ClientAppActor pid=3662)\u001b[0m [Client 1] fit, config: {'lr': 0.001}\n",
            "\u001b[2m\u001b[36m(ClientAppActor pid=3663)\u001b[0m Epoch 1: train loss 0.03914129361510277, accuracy 0.5544444444444444\n",
            "\u001b[2m\u001b[36m(ClientAppActor pid=3662)\u001b[0m Epoch 1: train loss 0.037641413509845734, accuracy 0.5773333333333334\n",
            "\u001b[2m\u001b[36m(ClientAppActor pid=3662)\u001b[0m [Client 0] evaluate, config: {}\n"
          ]
        },
        {
          "output_type": "stream",
          "name": "stderr",
          "text": [
            "\u001b[92mINFO \u001b[0m:      aggregate_fit: received 2 results and 0 failures\n",
            "INFO:flwr:aggregate_fit: received 2 results and 0 failures\n",
            "\u001b[92mINFO \u001b[0m:      configure_evaluate: strategy sampled 2 clients (out of 2)\n",
            "INFO:flwr:configure_evaluate: strategy sampled 2 clients (out of 2)\n"
          ]
        },
        {
          "output_type": "stream",
          "name": "stdout",
          "text": [
            "\u001b[2m\u001b[36m(ClientAppActor pid=3663)\u001b[0m [Client 0] fit, config: {'lr': 0.003}\n"
          ]
        },
        {
          "output_type": "stream",
          "name": "stderr",
          "text": [
            "\u001b[2m\u001b[36m(ClientAppActor pid=3663)\u001b[0m \u001b[93mWARNING \u001b[0m:   Deprecation Warning: The `client_fn` function must return an instance of `Client`, but an instance of `NumpyClient` was returned. Please use `NumPyClient.to_client()` method to convert it to `Client`.\u001b[32m [repeated 4x across cluster]\u001b[0m\n"
          ]
        },
        {
          "output_type": "stream",
          "name": "stdout",
          "text": [
            "\u001b[2m\u001b[36m(ClientAppActor pid=3663)\u001b[0m [Client 1] evaluate, config: {}\n"
          ]
        },
        {
          "output_type": "stream",
          "name": "stderr",
          "text": [
            "\u001b[92mINFO \u001b[0m:      aggregate_evaluate: received 2 results and 0 failures\n",
            "INFO:flwr:aggregate_evaluate: received 2 results and 0 failures\n",
            "\u001b[92mINFO \u001b[0m:      \n",
            "INFO:flwr:\n",
            "\u001b[92mINFO \u001b[0m:      [ROUND 14]\n",
            "INFO:flwr:[ROUND 14]\n",
            "\u001b[92mINFO \u001b[0m:      configure_fit: strategy sampled 2 clients (out of 2)\n",
            "INFO:flwr:configure_fit: strategy sampled 2 clients (out of 2)\n"
          ]
        },
        {
          "output_type": "stream",
          "name": "stdout",
          "text": [
            "\u001b[2m\u001b[36m(ClientAppActor pid=3662)\u001b[0m [Client 0] fit, config: {'lr': 0.001}\n",
            "\u001b[2m\u001b[36m(ClientAppActor pid=3663)\u001b[0m Epoch 1: train loss 0.03814057260751724, accuracy 0.5628888888888889\n",
            "\u001b[2m\u001b[36m(ClientAppActor pid=3662)\u001b[0m Epoch 1: train loss 0.03679865598678589, accuracy 0.5855555555555556\n",
            "\u001b[2m\u001b[36m(ClientAppActor pid=3662)\u001b[0m [Client 0] evaluate, config: {}\n"
          ]
        },
        {
          "output_type": "stream",
          "name": "stderr",
          "text": [
            "\u001b[92mINFO \u001b[0m:      aggregate_fit: received 2 results and 0 failures\n",
            "INFO:flwr:aggregate_fit: received 2 results and 0 failures\n",
            "\u001b[92mINFO \u001b[0m:      configure_evaluate: strategy sampled 2 clients (out of 2)\n",
            "INFO:flwr:configure_evaluate: strategy sampled 2 clients (out of 2)\n"
          ]
        },
        {
          "output_type": "stream",
          "name": "stdout",
          "text": [
            "\u001b[2m\u001b[36m(ClientAppActor pid=3663)\u001b[0m [Client 1] fit, config: {'lr': 0.003}\n"
          ]
        },
        {
          "output_type": "stream",
          "name": "stderr",
          "text": [
            "\u001b[2m\u001b[36m(ClientAppActor pid=3663)\u001b[0m \u001b[93mWARNING \u001b[0m:   Deprecation Warning: The `client_fn` function must return an instance of `Client`, but an instance of `NumpyClient` was returned. Please use `NumPyClient.to_client()` method to convert it to `Client`.\u001b[32m [repeated 4x across cluster]\u001b[0m\n"
          ]
        },
        {
          "output_type": "stream",
          "name": "stdout",
          "text": [
            "\u001b[2m\u001b[36m(ClientAppActor pid=3663)\u001b[0m [Client 0] evaluate, config: {}\n",
            "\u001b[2m\u001b[36m(ClientAppActor pid=3663)\u001b[0m Epoch 1: train loss 0.0363420806825161, accuracy 0.5902222222222222\n"
          ]
        },
        {
          "output_type": "stream",
          "name": "stderr",
          "text": [
            "\u001b[92mINFO \u001b[0m:      aggregate_evaluate: received 2 results and 0 failures\n",
            "INFO:flwr:aggregate_evaluate: received 2 results and 0 failures\n",
            "\u001b[92mINFO \u001b[0m:      \n",
            "INFO:flwr:\n",
            "\u001b[92mINFO \u001b[0m:      [ROUND 15]\n",
            "INFO:flwr:[ROUND 15]\n",
            "\u001b[92mINFO \u001b[0m:      configure_fit: strategy sampled 2 clients (out of 2)\n",
            "INFO:flwr:configure_fit: strategy sampled 2 clients (out of 2)\n"
          ]
        },
        {
          "output_type": "stream",
          "name": "stdout",
          "text": [
            "\u001b[2m\u001b[36m(ClientAppActor pid=3662)\u001b[0m [Client 0] fit, config: {'lr': 0.001}\n",
            "\u001b[2m\u001b[36m(ClientAppActor pid=3662)\u001b[0m Epoch 1: train loss 0.035700246691703796, accuracy 0.5946666666666667\n",
            "\u001b[2m\u001b[36m(ClientAppActor pid=3662)\u001b[0m [Client 1] evaluate, config: {}\n"
          ]
        },
        {
          "output_type": "stream",
          "name": "stderr",
          "text": [
            "\u001b[92mINFO \u001b[0m:      aggregate_fit: received 2 results and 0 failures\n",
            "INFO:flwr:aggregate_fit: received 2 results and 0 failures\n",
            "\u001b[92mINFO \u001b[0m:      configure_evaluate: strategy sampled 2 clients (out of 2)\n",
            "INFO:flwr:configure_evaluate: strategy sampled 2 clients (out of 2)\n"
          ]
        },
        {
          "output_type": "stream",
          "name": "stdout",
          "text": [
            "\u001b[2m\u001b[36m(ClientAppActor pid=3663)\u001b[0m [Client 1] fit, config: {'lr': 0.003}\n"
          ]
        },
        {
          "output_type": "stream",
          "name": "stderr",
          "text": [
            "\u001b[2m\u001b[36m(ClientAppActor pid=3663)\u001b[0m \u001b[93mWARNING \u001b[0m:   Deprecation Warning: The `client_fn` function must return an instance of `Client`, but an instance of `NumpyClient` was returned. Please use `NumPyClient.to_client()` method to convert it to `Client`.\u001b[32m [repeated 4x across cluster]\u001b[0m\n"
          ]
        },
        {
          "output_type": "stream",
          "name": "stdout",
          "text": [
            "\u001b[2m\u001b[36m(ClientAppActor pid=3663)\u001b[0m [Client 0] evaluate, config: {}\n"
          ]
        },
        {
          "output_type": "stream",
          "name": "stderr",
          "text": [
            "\u001b[92mINFO \u001b[0m:      aggregate_evaluate: received 2 results and 0 failures\n",
            "INFO:flwr:aggregate_evaluate: received 2 results and 0 failures\n",
            "\u001b[92mINFO \u001b[0m:      \n",
            "INFO:flwr:\n",
            "\u001b[92mINFO \u001b[0m:      [ROUND 16]\n",
            "INFO:flwr:[ROUND 16]\n",
            "\u001b[92mINFO \u001b[0m:      configure_fit: strategy sampled 2 clients (out of 2)\n",
            "INFO:flwr:configure_fit: strategy sampled 2 clients (out of 2)\n"
          ]
        },
        {
          "output_type": "stream",
          "name": "stdout",
          "text": [
            "\u001b[2m\u001b[36m(ClientAppActor pid=3662)\u001b[0m [Client 1] fit, config: {'lr': 0.001}\n",
            "\u001b[2m\u001b[36m(ClientAppActor pid=3663)\u001b[0m Epoch 1: train loss 0.03496307507157326, accuracy 0.6086666666666667\n",
            "\u001b[2m\u001b[36m(ClientAppActor pid=3662)\u001b[0m Epoch 1: train loss 0.03386474773287773, accuracy 0.6164444444444445\n",
            "\u001b[2m\u001b[36m(ClientAppActor pid=3662)\u001b[0m [Client 1] evaluate, config: {}\n"
          ]
        },
        {
          "output_type": "stream",
          "name": "stderr",
          "text": [
            "\u001b[92mINFO \u001b[0m:      aggregate_fit: received 2 results and 0 failures\n",
            "INFO:flwr:aggregate_fit: received 2 results and 0 failures\n",
            "\u001b[92mINFO \u001b[0m:      configure_evaluate: strategy sampled 2 clients (out of 2)\n",
            "INFO:flwr:configure_evaluate: strategy sampled 2 clients (out of 2)\n",
            "\u001b[2m\u001b[36m(ClientAppActor pid=3663)\u001b[0m \u001b[93mWARNING \u001b[0m:   Deprecation Warning: The `client_fn` function must return an instance of `Client`, but an instance of `NumpyClient` was returned. Please use `NumPyClient.to_client()` method to convert it to `Client`.\u001b[32m [repeated 4x across cluster]\u001b[0m\n"
          ]
        },
        {
          "output_type": "stream",
          "name": "stdout",
          "text": [
            "\u001b[2m\u001b[36m(ClientAppActor pid=3663)\u001b[0m [Client 0] evaluate, config: {}\n",
            "\u001b[2m\u001b[36m(ClientAppActor pid=3663)\u001b[0m [Client 0] fit, config: {'lr': 0.003}\n"
          ]
        },
        {
          "output_type": "stream",
          "name": "stderr",
          "text": [
            "\u001b[92mINFO \u001b[0m:      aggregate_evaluate: received 2 results and 0 failures\n",
            "INFO:flwr:aggregate_evaluate: received 2 results and 0 failures\n",
            "\u001b[92mINFO \u001b[0m:      \n",
            "INFO:flwr:\n",
            "\u001b[92mINFO \u001b[0m:      [ROUND 17]\n",
            "INFO:flwr:[ROUND 17]\n",
            "\u001b[92mINFO \u001b[0m:      configure_fit: strategy sampled 2 clients (out of 2)\n",
            "INFO:flwr:configure_fit: strategy sampled 2 clients (out of 2)\n"
          ]
        },
        {
          "output_type": "stream",
          "name": "stdout",
          "text": [
            "\u001b[2m\u001b[36m(ClientAppActor pid=3662)\u001b[0m [Client 1] fit, config: {'lr': 0.001}\n",
            "\u001b[2m\u001b[36m(ClientAppActor pid=3663)\u001b[0m Epoch 1: train loss 0.03457462042570114, accuracy 0.6177777777777778\n",
            "\u001b[2m\u001b[36m(ClientAppActor pid=3662)\u001b[0m Epoch 1: train loss 0.03309524431824684, accuracy 0.6262222222222222\n",
            "\u001b[2m\u001b[36m(ClientAppActor pid=3662)\u001b[0m [Client 1] evaluate, config: {}\n"
          ]
        },
        {
          "output_type": "stream",
          "name": "stderr",
          "text": [
            "\u001b[92mINFO \u001b[0m:      aggregate_fit: received 2 results and 0 failures\n",
            "INFO:flwr:aggregate_fit: received 2 results and 0 failures\n",
            "\u001b[92mINFO \u001b[0m:      configure_evaluate: strategy sampled 2 clients (out of 2)\n",
            "INFO:flwr:configure_evaluate: strategy sampled 2 clients (out of 2)\n",
            "\u001b[2m\u001b[36m(ClientAppActor pid=3663)\u001b[0m \u001b[93mWARNING \u001b[0m:   Deprecation Warning: The `client_fn` function must return an instance of `Client`, but an instance of `NumpyClient` was returned. Please use `NumPyClient.to_client()` method to convert it to `Client`.\u001b[32m [repeated 4x across cluster]\u001b[0m\n"
          ]
        },
        {
          "output_type": "stream",
          "name": "stdout",
          "text": [
            "\u001b[2m\u001b[36m(ClientAppActor pid=3663)\u001b[0m [Client 0] evaluate, config: {}\n",
            "\u001b[2m\u001b[36m(ClientAppActor pid=3663)\u001b[0m [Client 0] fit, config: {'lr': 0.003}\n"
          ]
        },
        {
          "output_type": "stream",
          "name": "stderr",
          "text": [
            "\u001b[92mINFO \u001b[0m:      aggregate_evaluate: received 2 results and 0 failures\n",
            "INFO:flwr:aggregate_evaluate: received 2 results and 0 failures\n",
            "\u001b[92mINFO \u001b[0m:      \n",
            "INFO:flwr:\n",
            "\u001b[92mINFO \u001b[0m:      [ROUND 18]\n",
            "INFO:flwr:[ROUND 18]\n",
            "\u001b[92mINFO \u001b[0m:      configure_fit: strategy sampled 2 clients (out of 2)\n",
            "INFO:flwr:configure_fit: strategy sampled 2 clients (out of 2)\n"
          ]
        },
        {
          "output_type": "stream",
          "name": "stdout",
          "text": [
            "\u001b[2m\u001b[36m(ClientAppActor pid=3662)\u001b[0m [Client 0] fit, config: {'lr': 0.001}\n",
            "\u001b[2m\u001b[36m(ClientAppActor pid=3663)\u001b[0m Epoch 1: train loss 0.03334978222846985, accuracy 0.6251111111111111\n",
            "\u001b[2m\u001b[36m(ClientAppActor pid=3662)\u001b[0m Epoch 1: train loss 0.03260963410139084, accuracy 0.6302222222222222\n",
            "\u001b[2m\u001b[36m(ClientAppActor pid=3662)\u001b[0m [Client 1] evaluate, config: {}\n"
          ]
        },
        {
          "output_type": "stream",
          "name": "stderr",
          "text": [
            "\u001b[92mINFO \u001b[0m:      aggregate_fit: received 2 results and 0 failures\n",
            "INFO:flwr:aggregate_fit: received 2 results and 0 failures\n",
            "\u001b[92mINFO \u001b[0m:      configure_evaluate: strategy sampled 2 clients (out of 2)\n",
            "INFO:flwr:configure_evaluate: strategy sampled 2 clients (out of 2)\n"
          ]
        },
        {
          "output_type": "stream",
          "name": "stdout",
          "text": [
            "\u001b[2m\u001b[36m(ClientAppActor pid=3663)\u001b[0m [Client 1] fit, config: {'lr': 0.003}\n"
          ]
        },
        {
          "output_type": "stream",
          "name": "stderr",
          "text": [
            "\u001b[2m\u001b[36m(ClientAppActor pid=3663)\u001b[0m \u001b[93mWARNING \u001b[0m:   Deprecation Warning: The `client_fn` function must return an instance of `Client`, but an instance of `NumpyClient` was returned. Please use `NumPyClient.to_client()` method to convert it to `Client`.\u001b[32m [repeated 4x across cluster]\u001b[0m\n"
          ]
        },
        {
          "output_type": "stream",
          "name": "stdout",
          "text": [
            "\u001b[2m\u001b[36m(ClientAppActor pid=3663)\u001b[0m [Client 1] evaluate, config: {}\n"
          ]
        },
        {
          "output_type": "stream",
          "name": "stderr",
          "text": [
            "\u001b[92mINFO \u001b[0m:      aggregate_evaluate: received 2 results and 0 failures\n",
            "INFO:flwr:aggregate_evaluate: received 2 results and 0 failures\n",
            "\u001b[92mINFO \u001b[0m:      \n",
            "INFO:flwr:\n",
            "\u001b[92mINFO \u001b[0m:      [ROUND 19]\n",
            "INFO:flwr:[ROUND 19]\n",
            "\u001b[92mINFO \u001b[0m:      configure_fit: strategy sampled 2 clients (out of 2)\n",
            "INFO:flwr:configure_fit: strategy sampled 2 clients (out of 2)\n"
          ]
        },
        {
          "output_type": "stream",
          "name": "stdout",
          "text": [
            "\u001b[2m\u001b[36m(ClientAppActor pid=3662)\u001b[0m [Client 1] fit, config: {'lr': 0.001}\n",
            "\u001b[2m\u001b[36m(ClientAppActor pid=3663)\u001b[0m Epoch 1: train loss 0.03187026455998421, accuracy 0.6462222222222223\n",
            "\u001b[2m\u001b[36m(ClientAppActor pid=3662)\u001b[0m Epoch 1: train loss 0.03097483329474926, accuracy 0.6504444444444445\n",
            "\u001b[2m\u001b[36m(ClientAppActor pid=3662)\u001b[0m [Client 0] evaluate, config: {}\n"
          ]
        },
        {
          "output_type": "stream",
          "name": "stderr",
          "text": [
            "\u001b[92mINFO \u001b[0m:      aggregate_fit: received 2 results and 0 failures\n",
            "INFO:flwr:aggregate_fit: received 2 results and 0 failures\n",
            "\u001b[92mINFO \u001b[0m:      configure_evaluate: strategy sampled 2 clients (out of 2)\n",
            "INFO:flwr:configure_evaluate: strategy sampled 2 clients (out of 2)\n"
          ]
        },
        {
          "output_type": "stream",
          "name": "stdout",
          "text": [
            "\u001b[2m\u001b[36m(ClientAppActor pid=3663)\u001b[0m [Client 0] fit, config: {'lr': 0.003}\n"
          ]
        },
        {
          "output_type": "stream",
          "name": "stderr",
          "text": [
            "\u001b[2m\u001b[36m(ClientAppActor pid=3663)\u001b[0m \u001b[93mWARNING \u001b[0m:   Deprecation Warning: The `client_fn` function must return an instance of `Client`, but an instance of `NumpyClient` was returned. Please use `NumPyClient.to_client()` method to convert it to `Client`.\u001b[32m [repeated 4x across cluster]\u001b[0m\n"
          ]
        },
        {
          "output_type": "stream",
          "name": "stdout",
          "text": [
            "\u001b[2m\u001b[36m(ClientAppActor pid=3663)\u001b[0m [Client 1] evaluate, config: {}\n",
            "\u001b[2m\u001b[36m(ClientAppActor pid=3663)\u001b[0m Epoch 1: train loss 0.030989529564976692, accuracy 0.6513333333333333\n"
          ]
        },
        {
          "output_type": "stream",
          "name": "stderr",
          "text": [
            "\u001b[92mINFO \u001b[0m:      aggregate_evaluate: received 2 results and 0 failures\n",
            "INFO:flwr:aggregate_evaluate: received 2 results and 0 failures\n",
            "\u001b[92mINFO \u001b[0m:      \n",
            "INFO:flwr:\n",
            "\u001b[92mINFO \u001b[0m:      [ROUND 20]\n",
            "INFO:flwr:[ROUND 20]\n",
            "\u001b[92mINFO \u001b[0m:      configure_fit: strategy sampled 2 clients (out of 2)\n",
            "INFO:flwr:configure_fit: strategy sampled 2 clients (out of 2)\n"
          ]
        },
        {
          "output_type": "stream",
          "name": "stdout",
          "text": [
            "\u001b[2m\u001b[36m(ClientAppActor pid=3662)\u001b[0m [Client 1] fit, config: {'lr': 0.001}\n",
            "\u001b[2m\u001b[36m(ClientAppActor pid=3662)\u001b[0m Epoch 1: train loss 0.02937314100563526, accuracy 0.6715555555555556\n",
            "\u001b[2m\u001b[36m(ClientAppActor pid=3662)\u001b[0m [Client 0] evaluate, config: {}\n"
          ]
        },
        {
          "output_type": "stream",
          "name": "stderr",
          "text": [
            "\u001b[92mINFO \u001b[0m:      aggregate_fit: received 2 results and 0 failures\n",
            "INFO:flwr:aggregate_fit: received 2 results and 0 failures\n",
            "\u001b[92mINFO \u001b[0m:      configure_evaluate: strategy sampled 2 clients (out of 2)\n",
            "INFO:flwr:configure_evaluate: strategy sampled 2 clients (out of 2)\n",
            "\u001b[2m\u001b[36m(ClientAppActor pid=3663)\u001b[0m \u001b[93mWARNING \u001b[0m:   Deprecation Warning: The `client_fn` function must return an instance of `Client`, but an instance of `NumpyClient` was returned. Please use `NumPyClient.to_client()` method to convert it to `Client`.\u001b[32m [repeated 4x across cluster]\u001b[0m\n"
          ]
        },
        {
          "output_type": "stream",
          "name": "stdout",
          "text": [
            "\u001b[2m\u001b[36m(ClientAppActor pid=3663)\u001b[0m [Client 0] evaluate, config: {}\n",
            "\u001b[2m\u001b[36m(ClientAppActor pid=3663)\u001b[0m [Client 0] fit, config: {'lr': 0.003}\n"
          ]
        },
        {
          "output_type": "stream",
          "name": "stderr",
          "text": [
            "\u001b[92mINFO \u001b[0m:      aggregate_evaluate: received 2 results and 0 failures\n",
            "INFO:flwr:aggregate_evaluate: received 2 results and 0 failures\n",
            "\u001b[92mINFO \u001b[0m:      \n",
            "INFO:flwr:\n",
            "\u001b[92mINFO \u001b[0m:      [ROUND 21]\n",
            "INFO:flwr:[ROUND 21]\n",
            "\u001b[92mINFO \u001b[0m:      configure_fit: strategy sampled 2 clients (out of 2)\n",
            "INFO:flwr:configure_fit: strategy sampled 2 clients (out of 2)\n"
          ]
        },
        {
          "output_type": "stream",
          "name": "stdout",
          "text": [
            "\u001b[2m\u001b[36m(ClientAppActor pid=3662)\u001b[0m [Client 1] fit, config: {'lr': 0.001}\n",
            "\u001b[2m\u001b[36m(ClientAppActor pid=3663)\u001b[0m Epoch 1: train loss 0.029694991186261177, accuracy 0.6671111111111111\n",
            "\u001b[2m\u001b[36m(ClientAppActor pid=3662)\u001b[0m Epoch 1: train loss 0.02833530306816101, accuracy 0.6806666666666666\n",
            "\u001b[2m\u001b[36m(ClientAppActor pid=3662)\u001b[0m [Client 1] evaluate, config: {}\n"
          ]
        },
        {
          "output_type": "stream",
          "name": "stderr",
          "text": [
            "\u001b[92mINFO \u001b[0m:      aggregate_fit: received 2 results and 0 failures\n",
            "INFO:flwr:aggregate_fit: received 2 results and 0 failures\n",
            "\u001b[92mINFO \u001b[0m:      configure_evaluate: strategy sampled 2 clients (out of 2)\n",
            "INFO:flwr:configure_evaluate: strategy sampled 2 clients (out of 2)\n",
            "\u001b[2m\u001b[36m(ClientAppActor pid=3663)\u001b[0m \u001b[93mWARNING \u001b[0m:   Deprecation Warning: The `client_fn` function must return an instance of `Client`, but an instance of `NumpyClient` was returned. Please use `NumPyClient.to_client()` method to convert it to `Client`.\u001b[32m [repeated 4x across cluster]\u001b[0m\n"
          ]
        },
        {
          "output_type": "stream",
          "name": "stdout",
          "text": [
            "\u001b[2m\u001b[36m(ClientAppActor pid=3663)\u001b[0m [Client 1] evaluate, config: {}\n",
            "\u001b[2m\u001b[36m(ClientAppActor pid=3663)\u001b[0m [Client 0] fit, config: {'lr': 0.003}\n"
          ]
        },
        {
          "output_type": "stream",
          "name": "stderr",
          "text": [
            "\u001b[92mINFO \u001b[0m:      aggregate_evaluate: received 2 results and 0 failures\n",
            "INFO:flwr:aggregate_evaluate: received 2 results and 0 failures\n",
            "\u001b[92mINFO \u001b[0m:      \n",
            "INFO:flwr:\n",
            "\u001b[92mINFO \u001b[0m:      [ROUND 22]\n",
            "INFO:flwr:[ROUND 22]\n",
            "\u001b[92mINFO \u001b[0m:      configure_fit: strategy sampled 2 clients (out of 2)\n",
            "INFO:flwr:configure_fit: strategy sampled 2 clients (out of 2)\n"
          ]
        },
        {
          "output_type": "stream",
          "name": "stdout",
          "text": [
            "\u001b[2m\u001b[36m(ClientAppActor pid=3662)\u001b[0m [Client 1] fit, config: {'lr': 0.001}\n",
            "\u001b[2m\u001b[36m(ClientAppActor pid=3663)\u001b[0m Epoch 1: train loss 0.028205126523971558, accuracy 0.6773333333333333\n",
            "\u001b[2m\u001b[36m(ClientAppActor pid=3662)\u001b[0m Epoch 1: train loss 0.027330340817570686, accuracy 0.6928888888888889\n",
            "\u001b[2m\u001b[36m(ClientAppActor pid=3662)\u001b[0m [Client 0] evaluate, config: {}\n"
          ]
        },
        {
          "output_type": "stream",
          "name": "stderr",
          "text": [
            "\u001b[92mINFO \u001b[0m:      aggregate_fit: received 2 results and 0 failures\n",
            "INFO:flwr:aggregate_fit: received 2 results and 0 failures\n",
            "\u001b[92mINFO \u001b[0m:      configure_evaluate: strategy sampled 2 clients (out of 2)\n",
            "INFO:flwr:configure_evaluate: strategy sampled 2 clients (out of 2)\n"
          ]
        },
        {
          "output_type": "stream",
          "name": "stdout",
          "text": [
            "\u001b[2m\u001b[36m(ClientAppActor pid=3663)\u001b[0m [Client 0] fit, config: {'lr': 0.003}\n"
          ]
        },
        {
          "output_type": "stream",
          "name": "stderr",
          "text": [
            "\u001b[2m\u001b[36m(ClientAppActor pid=3663)\u001b[0m \u001b[93mWARNING \u001b[0m:   Deprecation Warning: The `client_fn` function must return an instance of `Client`, but an instance of `NumpyClient` was returned. Please use `NumPyClient.to_client()` method to convert it to `Client`.\u001b[32m [repeated 4x across cluster]\u001b[0m\n",
            "\u001b[92mINFO \u001b[0m:      aggregate_evaluate: received 2 results and 0 failures\n",
            "INFO:flwr:aggregate_evaluate: received 2 results and 0 failures\n",
            "\u001b[92mINFO \u001b[0m:      \n",
            "INFO:flwr:\n",
            "\u001b[92mINFO \u001b[0m:      [ROUND 23]\n",
            "INFO:flwr:[ROUND 23]\n",
            "\u001b[92mINFO \u001b[0m:      configure_fit: strategy sampled 2 clients (out of 2)\n",
            "INFO:flwr:configure_fit: strategy sampled 2 clients (out of 2)\n"
          ]
        },
        {
          "output_type": "stream",
          "name": "stdout",
          "text": [
            "\u001b[2m\u001b[36m(ClientAppActor pid=3663)\u001b[0m [Client 1] evaluate, config: {}\n",
            "\u001b[2m\u001b[36m(ClientAppActor pid=3662)\u001b[0m [Client 0] fit, config: {'lr': 0.001}\n",
            "\u001b[2m\u001b[36m(ClientAppActor pid=3663)\u001b[0m Epoch 1: train loss 0.027150781825184822, accuracy 0.698\n",
            "\u001b[2m\u001b[36m(ClientAppActor pid=3662)\u001b[0m Epoch 1: train loss 0.025892606005072594, accuracy 0.7082222222222222\n",
            "\u001b[2m\u001b[36m(ClientAppActor pid=3662)\u001b[0m [Client 0] evaluate, config: {}\n"
          ]
        },
        {
          "output_type": "stream",
          "name": "stderr",
          "text": [
            "\u001b[92mINFO \u001b[0m:      aggregate_fit: received 2 results and 0 failures\n",
            "INFO:flwr:aggregate_fit: received 2 results and 0 failures\n",
            "\u001b[92mINFO \u001b[0m:      configure_evaluate: strategy sampled 2 clients (out of 2)\n",
            "INFO:flwr:configure_evaluate: strategy sampled 2 clients (out of 2)\n"
          ]
        },
        {
          "output_type": "stream",
          "name": "stdout",
          "text": [
            "\u001b[2m\u001b[36m(ClientAppActor pid=3663)\u001b[0m [Client 1] fit, config: {'lr': 0.003}\n"
          ]
        },
        {
          "output_type": "stream",
          "name": "stderr",
          "text": [
            "\u001b[2m\u001b[36m(ClientAppActor pid=3663)\u001b[0m \u001b[93mWARNING \u001b[0m:   Deprecation Warning: The `client_fn` function must return an instance of `Client`, but an instance of `NumpyClient` was returned. Please use `NumPyClient.to_client()` method to convert it to `Client`.\u001b[32m [repeated 4x across cluster]\u001b[0m\n"
          ]
        },
        {
          "output_type": "stream",
          "name": "stdout",
          "text": [
            "\u001b[2m\u001b[36m(ClientAppActor pid=3663)\u001b[0m [Client 1] evaluate, config: {}\n"
          ]
        },
        {
          "output_type": "stream",
          "name": "stderr",
          "text": [
            "\u001b[92mINFO \u001b[0m:      aggregate_evaluate: received 2 results and 0 failures\n",
            "INFO:flwr:aggregate_evaluate: received 2 results and 0 failures\n",
            "\u001b[92mINFO \u001b[0m:      \n",
            "INFO:flwr:\n",
            "\u001b[92mINFO \u001b[0m:      [ROUND 24]\n",
            "INFO:flwr:[ROUND 24]\n",
            "\u001b[92mINFO \u001b[0m:      configure_fit: strategy sampled 2 clients (out of 2)\n",
            "INFO:flwr:configure_fit: strategy sampled 2 clients (out of 2)\n"
          ]
        },
        {
          "output_type": "stream",
          "name": "stdout",
          "text": [
            "\u001b[2m\u001b[36m(ClientAppActor pid=3662)\u001b[0m [Client 0] fit, config: {'lr': 0.001}\n",
            "\u001b[2m\u001b[36m(ClientAppActor pid=3663)\u001b[0m Epoch 1: train loss 0.02611592411994934, accuracy 0.706\n",
            "\u001b[2m\u001b[36m(ClientAppActor pid=3662)\u001b[0m Epoch 1: train loss 0.0253610797226429, accuracy 0.7148888888888889\n",
            "\u001b[2m\u001b[36m(ClientAppActor pid=3662)\u001b[0m [Client 0] evaluate, config: {}\n"
          ]
        },
        {
          "output_type": "stream",
          "name": "stderr",
          "text": [
            "\u001b[92mINFO \u001b[0m:      aggregate_fit: received 2 results and 0 failures\n",
            "INFO:flwr:aggregate_fit: received 2 results and 0 failures\n",
            "\u001b[92mINFO \u001b[0m:      configure_evaluate: strategy sampled 2 clients (out of 2)\n",
            "INFO:flwr:configure_evaluate: strategy sampled 2 clients (out of 2)\n"
          ]
        },
        {
          "output_type": "stream",
          "name": "stdout",
          "text": [
            "\u001b[2m\u001b[36m(ClientAppActor pid=3663)\u001b[0m [Client 1] fit, config: {'lr': 0.003}\n"
          ]
        },
        {
          "output_type": "stream",
          "name": "stderr",
          "text": [
            "\u001b[2m\u001b[36m(ClientAppActor pid=3663)\u001b[0m \u001b[93mWARNING \u001b[0m:   Deprecation Warning: The `client_fn` function must return an instance of `Client`, but an instance of `NumpyClient` was returned. Please use `NumPyClient.to_client()` method to convert it to `Client`.\u001b[32m [repeated 4x across cluster]\u001b[0m\n"
          ]
        },
        {
          "output_type": "stream",
          "name": "stdout",
          "text": [
            "\u001b[2m\u001b[36m(ClientAppActor pid=3663)\u001b[0m [Client 0] evaluate, config: {}\n",
            "\u001b[2m\u001b[36m(ClientAppActor pid=3663)\u001b[0m Epoch 1: train loss 0.024779334664344788, accuracy 0.7275555555555555\n"
          ]
        },
        {
          "output_type": "stream",
          "name": "stderr",
          "text": [
            "\u001b[92mINFO \u001b[0m:      aggregate_evaluate: received 2 results and 0 failures\n",
            "INFO:flwr:aggregate_evaluate: received 2 results and 0 failures\n",
            "\u001b[92mINFO \u001b[0m:      \n",
            "INFO:flwr:\n",
            "\u001b[92mINFO \u001b[0m:      [ROUND 25]\n",
            "INFO:flwr:[ROUND 25]\n",
            "\u001b[92mINFO \u001b[0m:      configure_fit: strategy sampled 2 clients (out of 2)\n",
            "INFO:flwr:configure_fit: strategy sampled 2 clients (out of 2)\n"
          ]
        },
        {
          "output_type": "stream",
          "name": "stdout",
          "text": [
            "\u001b[2m\u001b[36m(ClientAppActor pid=3662)\u001b[0m [Client 1] fit, config: {'lr': 0.001}\n",
            "\u001b[2m\u001b[36m(ClientAppActor pid=3662)\u001b[0m Epoch 1: train loss 0.02395474538207054, accuracy 0.7333333333333333\n",
            "\u001b[2m\u001b[36m(ClientAppActor pid=3662)\u001b[0m [Client 1] evaluate, config: {}\n"
          ]
        },
        {
          "output_type": "stream",
          "name": "stderr",
          "text": [
            "\u001b[92mINFO \u001b[0m:      aggregate_fit: received 2 results and 0 failures\n",
            "INFO:flwr:aggregate_fit: received 2 results and 0 failures\n",
            "\u001b[92mINFO \u001b[0m:      configure_evaluate: strategy sampled 2 clients (out of 2)\n",
            "INFO:flwr:configure_evaluate: strategy sampled 2 clients (out of 2)\n",
            "\u001b[2m\u001b[36m(ClientAppActor pid=3663)\u001b[0m \u001b[93mWARNING \u001b[0m:   Deprecation Warning: The `client_fn` function must return an instance of `Client`, but an instance of `NumpyClient` was returned. Please use `NumPyClient.to_client()` method to convert it to `Client`.\u001b[32m [repeated 4x across cluster]\u001b[0m\n"
          ]
        },
        {
          "output_type": "stream",
          "name": "stdout",
          "text": [
            "\u001b[2m\u001b[36m(ClientAppActor pid=3663)\u001b[0m [Client 0] evaluate, config: {}\n",
            "\u001b[2m\u001b[36m(ClientAppActor pid=3663)\u001b[0m [Client 0] fit, config: {'lr': 0.003}\n",
            "\u001b[2m\u001b[36m(ClientAppActor pid=3663)\u001b[0m Epoch 1: train loss 0.023509331047534943, accuracy 0.7404444444444445\n"
          ]
        },
        {
          "output_type": "stream",
          "name": "stderr",
          "text": [
            "\u001b[92mINFO \u001b[0m:      aggregate_evaluate: received 2 results and 0 failures\n",
            "INFO:flwr:aggregate_evaluate: received 2 results and 0 failures\n",
            "\u001b[92mINFO \u001b[0m:      \n",
            "INFO:flwr:\n",
            "\u001b[92mINFO \u001b[0m:      [ROUND 26]\n",
            "INFO:flwr:[ROUND 26]\n",
            "\u001b[92mINFO \u001b[0m:      configure_fit: strategy sampled 2 clients (out of 2)\n",
            "INFO:flwr:configure_fit: strategy sampled 2 clients (out of 2)\n"
          ]
        },
        {
          "output_type": "stream",
          "name": "stdout",
          "text": [
            "\u001b[2m\u001b[36m(ClientAppActor pid=3662)\u001b[0m [Client 0] fit, config: {'lr': 0.001}\n"
          ]
        },
        {
          "output_type": "stream",
          "name": "stderr",
          "text": [
            "\u001b[2m\u001b[36m(ClientAppActor pid=3663)\u001b[0m \u001b[93mWARNING \u001b[0m:   Deprecation Warning: The `client_fn` function must return an instance of `Client`, but an instance of `NumpyClient` was returned. Please use `NumPyClient.to_client()` method to convert it to `Client`.\u001b[32m [repeated 3x across cluster]\u001b[0m\n"
          ]
        },
        {
          "output_type": "stream",
          "name": "stdout",
          "text": [
            "\u001b[2m\u001b[36m(ClientAppActor pid=3662)\u001b[0m [Client 1] evaluate, config: {}\n",
            "\u001b[2m\u001b[36m(ClientAppActor pid=3662)\u001b[0m Epoch 1: train loss 0.02300834469497204, accuracy 0.7371111111111112\n"
          ]
        },
        {
          "output_type": "stream",
          "name": "stderr",
          "text": [
            "\u001b[92mINFO \u001b[0m:      aggregate_fit: received 2 results and 0 failures\n",
            "INFO:flwr:aggregate_fit: received 2 results and 0 failures\n",
            "\u001b[92mINFO \u001b[0m:      configure_evaluate: strategy sampled 2 clients (out of 2)\n",
            "INFO:flwr:configure_evaluate: strategy sampled 2 clients (out of 2)\n",
            "\u001b[2m\u001b[36m(ClientAppActor pid=3663)\u001b[0m \u001b[93mWARNING \u001b[0m:   Deprecation Warning: The `client_fn` function must return an instance of `Client`, but an instance of `NumpyClient` was returned. Please use `NumPyClient.to_client()` method to convert it to `Client`.\n"
          ]
        },
        {
          "output_type": "stream",
          "name": "stdout",
          "text": [
            "\u001b[2m\u001b[36m(ClientAppActor pid=3663)\u001b[0m [Client 0] evaluate, config: {}\n",
            "\u001b[2m\u001b[36m(ClientAppActor pid=3663)\u001b[0m [Client 1] fit, config: {'lr': 0.003}\n"
          ]
        },
        {
          "output_type": "stream",
          "name": "stderr",
          "text": [
            "\u001b[2m\u001b[36m(ClientAppActor pid=3662)\u001b[0m \u001b[93mWARNING \u001b[0m:   Deprecation Warning: The `client_fn` function must return an instance of `Client`, but an instance of `NumpyClient` was returned. Please use `NumPyClient.to_client()` method to convert it to `Client`.\n",
            "\u001b[92mINFO \u001b[0m:      aggregate_evaluate: received 2 results and 0 failures\n",
            "INFO:flwr:aggregate_evaluate: received 2 results and 0 failures\n",
            "\u001b[92mINFO \u001b[0m:      \n",
            "INFO:flwr:\n",
            "\u001b[92mINFO \u001b[0m:      [ROUND 27]\n",
            "INFO:flwr:[ROUND 27]\n",
            "\u001b[92mINFO \u001b[0m:      configure_fit: strategy sampled 2 clients (out of 2)\n",
            "INFO:flwr:configure_fit: strategy sampled 2 clients (out of 2)\n",
            "\u001b[2m\u001b[36m(ClientAppActor pid=3662)\u001b[0m \u001b[93mWARNING \u001b[0m:   Deprecation Warning: The `client_fn` function must return an instance of `Client`, but an instance of `NumpyClient` was returned. Please use `NumPyClient.to_client()` method to convert it to `Client`.\n"
          ]
        },
        {
          "output_type": "stream",
          "name": "stdout",
          "text": [
            "\u001b[2m\u001b[36m(ClientAppActor pid=3662)\u001b[0m [Client 1] fit, config: {'lr': 0.001}\n",
            "\u001b[2m\u001b[36m(ClientAppActor pid=3663)\u001b[0m Epoch 1: train loss 0.022488517686724663, accuracy 0.7455555555555555\n",
            "\u001b[2m\u001b[36m(ClientAppActor pid=3662)\u001b[0m Epoch 1: train loss 0.021933335810899734, accuracy 0.75\n",
            "\u001b[2m\u001b[36m(ClientAppActor pid=3662)\u001b[0m [Client 1] evaluate, config: {}\n"
          ]
        },
        {
          "output_type": "stream",
          "name": "stderr",
          "text": [
            "\u001b[92mINFO \u001b[0m:      aggregate_fit: received 2 results and 0 failures\n",
            "INFO:flwr:aggregate_fit: received 2 results and 0 failures\n",
            "\u001b[92mINFO \u001b[0m:      configure_evaluate: strategy sampled 2 clients (out of 2)\n",
            "INFO:flwr:configure_evaluate: strategy sampled 2 clients (out of 2)\n"
          ]
        },
        {
          "output_type": "stream",
          "name": "stdout",
          "text": [
            "\u001b[2m\u001b[36m(ClientAppActor pid=3663)\u001b[0m [Client 0] fit, config: {'lr': 0.003}\n"
          ]
        },
        {
          "output_type": "stream",
          "name": "stderr",
          "text": [
            "\u001b[2m\u001b[36m(ClientAppActor pid=3663)\u001b[0m \u001b[93mWARNING \u001b[0m:   Deprecation Warning: The `client_fn` function must return an instance of `Client`, but an instance of `NumpyClient` was returned. Please use `NumPyClient.to_client()` method to convert it to `Client`.\u001b[32m [repeated 2x across cluster]\u001b[0m\n"
          ]
        },
        {
          "output_type": "stream",
          "name": "stdout",
          "text": [
            "\u001b[2m\u001b[36m(ClientAppActor pid=3663)\u001b[0m [Client 1] evaluate, config: {}\n"
          ]
        },
        {
          "output_type": "stream",
          "name": "stderr",
          "text": [
            "\u001b[92mINFO \u001b[0m:      aggregate_evaluate: received 2 results and 0 failures\n",
            "INFO:flwr:aggregate_evaluate: received 2 results and 0 failures\n",
            "\u001b[92mINFO \u001b[0m:      \n",
            "INFO:flwr:\n",
            "\u001b[92mINFO \u001b[0m:      [ROUND 28]\n",
            "INFO:flwr:[ROUND 28]\n",
            "\u001b[92mINFO \u001b[0m:      configure_fit: strategy sampled 2 clients (out of 2)\n",
            "INFO:flwr:configure_fit: strategy sampled 2 clients (out of 2)\n"
          ]
        },
        {
          "output_type": "stream",
          "name": "stdout",
          "text": [
            "\u001b[2m\u001b[36m(ClientAppActor pid=3662)\u001b[0m [Client 1] fit, config: {'lr': 0.001}\n",
            "\u001b[2m\u001b[36m(ClientAppActor pid=3663)\u001b[0m Epoch 1: train loss 0.02204481139779091, accuracy 0.7566666666666667\n",
            "\u001b[2m\u001b[36m(ClientAppActor pid=3662)\u001b[0m Epoch 1: train loss 0.020474420860409737, accuracy 0.7744444444444445\n",
            "\u001b[2m\u001b[36m(ClientAppActor pid=3662)\u001b[0m [Client 0] evaluate, config: {}\n"
          ]
        },
        {
          "output_type": "stream",
          "name": "stderr",
          "text": [
            "\u001b[92mINFO \u001b[0m:      aggregate_fit: received 2 results and 0 failures\n",
            "INFO:flwr:aggregate_fit: received 2 results and 0 failures\n",
            "\u001b[92mINFO \u001b[0m:      configure_evaluate: strategy sampled 2 clients (out of 2)\n",
            "INFO:flwr:configure_evaluate: strategy sampled 2 clients (out of 2)\n"
          ]
        },
        {
          "output_type": "stream",
          "name": "stdout",
          "text": [
            "\u001b[2m\u001b[36m(ClientAppActor pid=3663)\u001b[0m [Client 0] fit, config: {'lr': 0.003}\n"
          ]
        },
        {
          "output_type": "stream",
          "name": "stderr",
          "text": [
            "\u001b[2m\u001b[36m(ClientAppActor pid=3663)\u001b[0m \u001b[93mWARNING \u001b[0m:   Deprecation Warning: The `client_fn` function must return an instance of `Client`, but an instance of `NumpyClient` was returned. Please use `NumPyClient.to_client()` method to convert it to `Client`.\u001b[32m [repeated 4x across cluster]\u001b[0m\n"
          ]
        },
        {
          "output_type": "stream",
          "name": "stdout",
          "text": [
            "\u001b[2m\u001b[36m(ClientAppActor pid=3663)\u001b[0m [Client 1] evaluate, config: {}\n"
          ]
        },
        {
          "output_type": "stream",
          "name": "stderr",
          "text": [
            "\u001b[92mINFO \u001b[0m:      aggregate_evaluate: received 2 results and 0 failures\n",
            "INFO:flwr:aggregate_evaluate: received 2 results and 0 failures\n",
            "\u001b[92mINFO \u001b[0m:      \n",
            "INFO:flwr:\n",
            "\u001b[92mINFO \u001b[0m:      [ROUND 29]\n",
            "INFO:flwr:[ROUND 29]\n",
            "\u001b[92mINFO \u001b[0m:      configure_fit: strategy sampled 2 clients (out of 2)\n",
            "INFO:flwr:configure_fit: strategy sampled 2 clients (out of 2)\n"
          ]
        },
        {
          "output_type": "stream",
          "name": "stdout",
          "text": [
            "\u001b[2m\u001b[36m(ClientAppActor pid=3662)\u001b[0m [Client 0] fit, config: {'lr': 0.001}\n",
            "\u001b[2m\u001b[36m(ClientAppActor pid=3663)\u001b[0m Epoch 1: train loss 0.020778825506567955, accuracy 0.7677777777777778\n",
            "\u001b[2m\u001b[36m(ClientAppActor pid=3662)\u001b[0m Epoch 1: train loss 0.01956874318420887, accuracy 0.7831111111111111\n",
            "\u001b[2m\u001b[36m(ClientAppActor pid=3662)\u001b[0m [Client 0] evaluate, config: {}\n"
          ]
        },
        {
          "output_type": "stream",
          "name": "stderr",
          "text": [
            "\u001b[92mINFO \u001b[0m:      aggregate_fit: received 2 results and 0 failures\n",
            "INFO:flwr:aggregate_fit: received 2 results and 0 failures\n",
            "\u001b[92mINFO \u001b[0m:      configure_evaluate: strategy sampled 2 clients (out of 2)\n",
            "INFO:flwr:configure_evaluate: strategy sampled 2 clients (out of 2)\n",
            "\u001b[2m\u001b[36m(ClientAppActor pid=3663)\u001b[0m \u001b[93mWARNING \u001b[0m:   Deprecation Warning: The `client_fn` function must return an instance of `Client`, but an instance of `NumpyClient` was returned. Please use `NumPyClient.to_client()` method to convert it to `Client`.\u001b[32m [repeated 4x across cluster]\u001b[0m\n"
          ]
        },
        {
          "output_type": "stream",
          "name": "stdout",
          "text": [
            "\u001b[2m\u001b[36m(ClientAppActor pid=3663)\u001b[0m [Client 0] evaluate, config: {}\n",
            "\u001b[2m\u001b[36m(ClientAppActor pid=3663)\u001b[0m [Client 1] fit, config: {'lr': 0.003}\n",
            "\u001b[2m\u001b[36m(ClientAppActor pid=3663)\u001b[0m Epoch 1: train loss 0.019979726523160934, accuracy 0.7753333333333333\n"
          ]
        },
        {
          "output_type": "stream",
          "name": "stderr",
          "text": [
            "\u001b[92mINFO \u001b[0m:      aggregate_evaluate: received 2 results and 0 failures\n",
            "INFO:flwr:aggregate_evaluate: received 2 results and 0 failures\n",
            "\u001b[92mINFO \u001b[0m:      \n",
            "INFO:flwr:\n",
            "\u001b[92mINFO \u001b[0m:      [ROUND 30]\n",
            "INFO:flwr:[ROUND 30]\n",
            "\u001b[92mINFO \u001b[0m:      configure_fit: strategy sampled 2 clients (out of 2)\n",
            "INFO:flwr:configure_fit: strategy sampled 2 clients (out of 2)\n"
          ]
        },
        {
          "output_type": "stream",
          "name": "stdout",
          "text": [
            "\u001b[2m\u001b[36m(ClientAppActor pid=3662)\u001b[0m [Client 0] fit, config: {'lr': 0.001}\n",
            "\u001b[2m\u001b[36m(ClientAppActor pid=3662)\u001b[0m Epoch 1: train loss 0.018433179706335068, accuracy 0.7877777777777778\n",
            "\u001b[2m\u001b[36m(ClientAppActor pid=3662)\u001b[0m [Client 1] evaluate, config: {}\n"
          ]
        },
        {
          "output_type": "stream",
          "name": "stderr",
          "text": [
            "\u001b[92mINFO \u001b[0m:      aggregate_fit: received 2 results and 0 failures\n",
            "INFO:flwr:aggregate_fit: received 2 results and 0 failures\n",
            "\u001b[92mINFO \u001b[0m:      configure_evaluate: strategy sampled 2 clients (out of 2)\n",
            "INFO:flwr:configure_evaluate: strategy sampled 2 clients (out of 2)\n",
            "\u001b[2m\u001b[36m(ClientAppActor pid=3663)\u001b[0m \u001b[93mWARNING \u001b[0m:   Deprecation Warning: The `client_fn` function must return an instance of `Client`, but an instance of `NumpyClient` was returned. Please use `NumPyClient.to_client()` method to convert it to `Client`.\u001b[32m [repeated 4x across cluster]\u001b[0m\n"
          ]
        },
        {
          "output_type": "stream",
          "name": "stdout",
          "text": [
            "\u001b[2m\u001b[36m(ClientAppActor pid=3663)\u001b[0m [Client 0] evaluate, config: {}\n",
            "\u001b[2m\u001b[36m(ClientAppActor pid=3663)\u001b[0m [Client 1] fit, config: {'lr': 0.003}\n"
          ]
        },
        {
          "output_type": "stream",
          "name": "stderr",
          "text": [
            "\u001b[92mINFO \u001b[0m:      aggregate_evaluate: received 2 results and 0 failures\n",
            "INFO:flwr:aggregate_evaluate: received 2 results and 0 failures\n",
            "\u001b[92mINFO \u001b[0m:      \n",
            "INFO:flwr:\n",
            "\u001b[92mINFO \u001b[0m:      [SUMMARY]\n",
            "INFO:flwr:[SUMMARY]\n",
            "\u001b[92mINFO \u001b[0m:      Run finished 30 rounds in 336.33s\n",
            "INFO:flwr:Run finished 30 rounds in 336.33s\n",
            "\u001b[92mINFO \u001b[0m:      History (loss, distributed):\n",
            "INFO:flwr:History (loss, distributed):\n",
            "\u001b[92mINFO \u001b[0m:      \t('\\tround 1: 0.06174108791351318\\n'\n",
            "INFO:flwr:\t('\\tround 1: 0.06174108791351318\\n'\n",
            "\u001b[92mINFO \u001b[0m:      \t '\\tround 2: 0.05510799038410187\\n'\n",
            "INFO:flwr:\t '\\tround 2: 0.05510799038410187\\n'\n",
            "\u001b[92mINFO \u001b[0m:      \t '\\tround 3: 0.052530754685401915\\n'\n",
            "INFO:flwr:\t '\\tround 3: 0.052530754685401915\\n'\n",
            "\u001b[92mINFO \u001b[0m:      \t '\\tround 4: 0.05123989570140838\\n'\n",
            "INFO:flwr:\t '\\tround 4: 0.05123989570140838\\n'\n",
            "\u001b[92mINFO \u001b[0m:      \t '\\tround 5: 0.050344473958015445\\n'\n",
            "INFO:flwr:\t '\\tround 5: 0.050344473958015445\\n'\n",
            "\u001b[92mINFO \u001b[0m:      \t '\\tround 6: 0.04917852365970612\\n'\n",
            "INFO:flwr:\t '\\tround 6: 0.04917852365970612\\n'\n",
            "\u001b[92mINFO \u001b[0m:      \t '\\tround 7: 0.04852730822563171\\n'\n",
            "INFO:flwr:\t '\\tround 7: 0.04852730822563171\\n'\n",
            "\u001b[92mINFO \u001b[0m:      \t '\\tround 8: 0.04765068101882935\\n'\n",
            "INFO:flwr:\t '\\tround 8: 0.04765068101882935\\n'\n",
            "\u001b[92mINFO \u001b[0m:      \t '\\tround 9: 0.04844196701049805\\n'\n",
            "INFO:flwr:\t '\\tround 9: 0.04844196701049805\\n'\n",
            "\u001b[92mINFO \u001b[0m:      \t '\\tround 10: 0.046783154845237734\\n'\n",
            "INFO:flwr:\t '\\tround 10: 0.046783154845237734\\n'\n",
            "\u001b[92mINFO \u001b[0m:      \t '\\tround 11: 0.04597913074493408\\n'\n",
            "INFO:flwr:\t '\\tround 11: 0.04597913074493408\\n'\n",
            "\u001b[92mINFO \u001b[0m:      \t '\\tround 12: 0.04647729516029358\\n'\n",
            "INFO:flwr:\t '\\tround 12: 0.04647729516029358\\n'\n",
            "\u001b[92mINFO \u001b[0m:      \t '\\tround 13: 0.045989009022712704\\n'\n",
            "INFO:flwr:\t '\\tround 13: 0.045989009022712704\\n'\n",
            "\u001b[92mINFO \u001b[0m:      \t '\\tround 14: 0.045476084530353546\\n'\n",
            "INFO:flwr:\t '\\tround 14: 0.045476084530353546\\n'\n",
            "\u001b[92mINFO \u001b[0m:      \t '\\tround 15: 0.046660958528518676\\n'\n",
            "INFO:flwr:\t '\\tround 15: 0.046660958528518676\\n'\n",
            "\u001b[92mINFO \u001b[0m:      \t '\\tround 16: 0.045359196662902834\\n'\n",
            "INFO:flwr:\t '\\tround 16: 0.045359196662902834\\n'\n",
            "\u001b[92mINFO \u001b[0m:      \t '\\tround 17: 0.045832692980766296\\n'\n",
            "INFO:flwr:\t '\\tround 17: 0.045832692980766296\\n'\n",
            "\u001b[92mINFO \u001b[0m:      \t '\\tround 18: 0.045577499747276304\\n'\n",
            "INFO:flwr:\t '\\tround 18: 0.045577499747276304\\n'\n",
            "\u001b[92mINFO \u001b[0m:      \t '\\tround 19: 0.04643594229221344\\n'\n",
            "INFO:flwr:\t '\\tround 19: 0.04643594229221344\\n'\n",
            "\u001b[92mINFO \u001b[0m:      \t '\\tround 20: 0.04645876663923264\\n'\n",
            "INFO:flwr:\t '\\tround 20: 0.04645876663923264\\n'\n",
            "\u001b[92mINFO \u001b[0m:      \t '\\tround 21: 0.04608034920692444\\n'\n",
            "INFO:flwr:\t '\\tround 21: 0.04608034920692444\\n'\n",
            "\u001b[92mINFO \u001b[0m:      \t '\\tround 22: 0.048626709938049316\\n'\n",
            "INFO:flwr:\t '\\tround 22: 0.048626709938049316\\n'\n",
            "\u001b[92mINFO \u001b[0m:      \t '\\tround 23: 0.049051375865936275\\n'\n",
            "INFO:flwr:\t '\\tround 23: 0.049051375865936275\\n'\n",
            "\u001b[92mINFO \u001b[0m:      \t '\\tround 24: 0.0501032520532608\\n'\n",
            "INFO:flwr:\t '\\tround 24: 0.0501032520532608\\n'\n",
            "\u001b[92mINFO \u001b[0m:      \t '\\tround 25: 0.05031823039054871\\n'\n",
            "INFO:flwr:\t '\\tround 25: 0.05031823039054871\\n'\n",
            "\u001b[92mINFO \u001b[0m:      \t '\\tround 26: 0.05149395215511322\\n'\n",
            "INFO:flwr:\t '\\tround 26: 0.05149395215511322\\n'\n",
            "\u001b[92mINFO \u001b[0m:      \t '\\tround 27: 0.051542083323001864\\n'\n",
            "INFO:flwr:\t '\\tround 27: 0.051542083323001864\\n'\n",
            "\u001b[92mINFO \u001b[0m:      \t '\\tround 28: 0.05302882158756256\\n'\n",
            "INFO:flwr:\t '\\tround 28: 0.05302882158756256\\n'\n",
            "\u001b[92mINFO \u001b[0m:      \t '\\tround 29: 0.05534719717502594\\n'\n",
            "INFO:flwr:\t '\\tround 29: 0.05534719717502594\\n'\n",
            "\u001b[92mINFO \u001b[0m:      \t '\\tround 30: 0.05654395174980163\\n')\n",
            "INFO:flwr:\t '\\tround 30: 0.05654395174980163\\n')\n",
            "\u001b[92mINFO \u001b[0m:      \n",
            "INFO:flwr:\n"
          ]
        },
        {
          "output_type": "execute_result",
          "data": {
            "text/plain": [
              "History (loss, distributed):\n",
              "('\\tround 1: 0.06174108791351318\\n'\n",
              " '\\tround 2: 0.05510799038410187\\n'\n",
              " '\\tround 3: 0.052530754685401915\\n'\n",
              " '\\tround 4: 0.05123989570140838\\n'\n",
              " '\\tround 5: 0.050344473958015445\\n'\n",
              " '\\tround 6: 0.04917852365970612\\n'\n",
              " '\\tround 7: 0.04852730822563171\\n'\n",
              " '\\tround 8: 0.04765068101882935\\n'\n",
              " '\\tround 9: 0.04844196701049805\\n'\n",
              " '\\tround 10: 0.046783154845237734\\n'\n",
              " '\\tround 11: 0.04597913074493408\\n'\n",
              " '\\tround 12: 0.04647729516029358\\n'\n",
              " '\\tround 13: 0.045989009022712704\\n'\n",
              " '\\tround 14: 0.045476084530353546\\n'\n",
              " '\\tround 15: 0.046660958528518676\\n'\n",
              " '\\tround 16: 0.045359196662902834\\n'\n",
              " '\\tround 17: 0.045832692980766296\\n'\n",
              " '\\tround 18: 0.045577499747276304\\n'\n",
              " '\\tround 19: 0.04643594229221344\\n'\n",
              " '\\tround 20: 0.04645876663923264\\n'\n",
              " '\\tround 21: 0.04608034920692444\\n'\n",
              " '\\tround 22: 0.048626709938049316\\n'\n",
              " '\\tround 23: 0.049051375865936275\\n'\n",
              " '\\tround 24: 0.0501032520532608\\n'\n",
              " '\\tround 25: 0.05031823039054871\\n'\n",
              " '\\tround 26: 0.05149395215511322\\n'\n",
              " '\\tround 27: 0.051542083323001864\\n'\n",
              " '\\tround 28: 0.05302882158756256\\n'\n",
              " '\\tround 29: 0.05534719717502594\\n'\n",
              " '\\tround 30: 0.05654395174980163\\n')"
            ]
          },
          "metadata": {},
          "execution_count": 10
        }
      ],
      "source": [
        "fl.simulation.start_simulation(\n",
        "    client_fn=client_fn,\n",
        "    num_clients=2,\n",
        "    config=fl.server.ServerConfig(num_rounds=30),\n",
        "    strategy=FedCustom(),  # <-- pass the new strategy here\n",
        "    client_resources=client_resources,\n",
        ")"
      ]
    },
    {
      "cell_type": "markdown",
      "metadata": {
        "id": "yUuxgLd-bML8"
      },
      "source": [
        "## Recap\n",
        "\n",
        "In this notebook, we’ve seen how to implement a custom strategy. A custom strategy enables granular control over client node configuration, result aggregation, and more. To define a custom strategy, you only have to overwrite the abstract methods of the (abstract) base class `Strategy`. To make custom strategies even more powerful, you can pass custom functions to the constructor of your new class (`__init__`) and then call these functions whenever needed."
      ]
    }
  ],
  "metadata": {
    "colab": {
      "provenance": [],
      "toc_visible": true,
      "gpuType": "T4",
      "include_colab_link": true
    },
    "kernelspec": {
      "display_name": "Python 3",
      "name": "python3"
    },
    "accelerator": "GPU"
  },
  "nbformat": 4,
  "nbformat_minor": 0
}